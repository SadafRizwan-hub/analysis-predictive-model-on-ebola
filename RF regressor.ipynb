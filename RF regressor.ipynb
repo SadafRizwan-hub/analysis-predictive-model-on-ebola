{
 "cells": [
  {
   "cell_type": "markdown",
   "id": "a5551e86-fe73-4c81-b5de-e67fd204b880",
   "metadata": {
    "jp-MarkdownHeadingCollapsed": true
   },
   "source": [
    "### Importing Necessary libraries\n",
    "\n",
    "https://www.kaggle.com/code/imdevskp/western-africa-ebola-outbreak-analysis"
   ]
  },
  {
   "cell_type": "code",
   "execution_count": 367,
   "id": "78a8c36c-01cb-4563-a753-0017255409fc",
   "metadata": {},
   "outputs": [],
   "source": [
    " # processing and storing in dataframe\n",
    "import pandas as pd \n",
    "\n",
    "# numerical analysis\n",
    "import numpy as np  \n",
    "\n",
    "# basic plotting\n",
    "import matplotlib.pyplot as plt \n",
    "\n",
    "#advanced plotting\n",
    "import seaborn as sns\n",
    "\n",
    "#interactive plotting\n",
    "import plotly.express as px\n",
    "\n",
    "# dealing with geographical data\n",
    "import geopandas as gpd\n",
    "\n",
    "#to get geolocation\n",
    "from geopandas.tools import geocode"
   ]
  },
  {
   "cell_type": "markdown",
   "id": "7f4f7ad9-8e15-40dc-9bbc-353b7c5489b1",
   "metadata": {},
   "source": [
    "### DATA CLEANING AND PREPROCESSING \n"
   ]
  },
  {
   "cell_type": "markdown",
   "id": "36a9e434-95e3-4595-9791-11822a3c6d9a",
   "metadata": {},
   "source": [
    "Read the Data"
   ]
  },
  {
   "cell_type": "code",
   "execution_count": 368,
   "id": "4606a521-ec91-41b6-9ea1-71ccb6cfe754",
   "metadata": {},
   "outputs": [],
   "source": [
    "df = pd.read_csv('ebola_2014_2016_clean.csv')"
   ]
  },
  {
   "cell_type": "code",
   "execution_count": 369,
   "id": "2c2306a8-5ed9-4b63-bb97-ecdf19d7101e",
   "metadata": {},
   "outputs": [
    {
     "data": {
      "text/plain": [
       "Index(['Country', 'Date',\n",
       "       'Cumulative no. of confirmed, probable and suspected cases',\n",
       "       'Cumulative no. of confirmed, probable and suspected deaths'],\n",
       "      dtype='object')"
      ]
     },
     "execution_count": 369,
     "metadata": {},
     "output_type": "execute_result"
    }
   ],
   "source": [
    "df.columns"
   ]
  },
  {
   "cell_type": "code",
   "execution_count": 370,
   "id": "27b396fd-0d28-41ae-a0f9-7ab632b6a007",
   "metadata": {},
   "outputs": [
    {
     "data": {
      "text/html": [
       "<div>\n",
       "<style scoped>\n",
       "    .dataframe tbody tr th:only-of-type {\n",
       "        vertical-align: middle;\n",
       "    }\n",
       "\n",
       "    .dataframe tbody tr th {\n",
       "        vertical-align: top;\n",
       "    }\n",
       "\n",
       "    .dataframe thead th {\n",
       "        text-align: right;\n",
       "    }\n",
       "</style>\n",
       "<table border=\"1\" class=\"dataframe\">\n",
       "  <thead>\n",
       "    <tr style=\"text-align: right;\">\n",
       "      <th></th>\n",
       "      <th>Country</th>\n",
       "      <th>Date</th>\n",
       "      <th>Cumulative no. of confirmed, probable and suspected cases</th>\n",
       "      <th>Cumulative no. of confirmed, probable and suspected deaths</th>\n",
       "    </tr>\n",
       "  </thead>\n",
       "  <tbody>\n",
       "    <tr>\n",
       "      <th>0</th>\n",
       "      <td>Guinea</td>\n",
       "      <td>2014-08-29</td>\n",
       "      <td>648.0</td>\n",
       "      <td>430.0</td>\n",
       "    </tr>\n",
       "    <tr>\n",
       "      <th>1</th>\n",
       "      <td>Nigeria</td>\n",
       "      <td>2014-08-29</td>\n",
       "      <td>19.0</td>\n",
       "      <td>7.0</td>\n",
       "    </tr>\n",
       "    <tr>\n",
       "      <th>2</th>\n",
       "      <td>Sierra Leone</td>\n",
       "      <td>2014-08-29</td>\n",
       "      <td>1026.0</td>\n",
       "      <td>422.0</td>\n",
       "    </tr>\n",
       "    <tr>\n",
       "      <th>3</th>\n",
       "      <td>Liberia</td>\n",
       "      <td>2014-08-29</td>\n",
       "      <td>1378.0</td>\n",
       "      <td>694.0</td>\n",
       "    </tr>\n",
       "    <tr>\n",
       "      <th>4</th>\n",
       "      <td>Sierra Leone</td>\n",
       "      <td>2014-09-05</td>\n",
       "      <td>1261.0</td>\n",
       "      <td>491.0</td>\n",
       "    </tr>\n",
       "  </tbody>\n",
       "</table>\n",
       "</div>"
      ],
      "text/plain": [
       "        Country        Date  \\\n",
       "0        Guinea  2014-08-29   \n",
       "1       Nigeria  2014-08-29   \n",
       "2  Sierra Leone  2014-08-29   \n",
       "3       Liberia  2014-08-29   \n",
       "4  Sierra Leone  2014-09-05   \n",
       "\n",
       "   Cumulative no. of confirmed, probable and suspected cases  \\\n",
       "0                                              648.0           \n",
       "1                                               19.0           \n",
       "2                                             1026.0           \n",
       "3                                             1378.0           \n",
       "4                                             1261.0           \n",
       "\n",
       "   Cumulative no. of confirmed, probable and suspected deaths  \n",
       "0                                              430.0           \n",
       "1                                                7.0           \n",
       "2                                              422.0           \n",
       "3                                              694.0           \n",
       "4                                              491.0           "
      ]
     },
     "execution_count": 370,
     "metadata": {},
     "output_type": "execute_result"
    }
   ],
   "source": [
    "df.head()  # It will show the 1st 5 details"
   ]
  },
  {
   "cell_type": "code",
   "execution_count": 371,
   "id": "49b0d26e-92a3-4dd1-8bc7-8be37c855d06",
   "metadata": {},
   "outputs": [
    {
     "name": "stdout",
     "output_type": "stream",
     "text": [
      "<class 'pandas.core.frame.DataFrame'>\n",
      "RangeIndex: 2485 entries, 0 to 2484\n",
      "Data columns (total 4 columns):\n",
      " #   Column                                                      Non-Null Count  Dtype  \n",
      "---  ------                                                      --------------  -----  \n",
      " 0   Country                                                     2485 non-null   object \n",
      " 1   Date                                                        2485 non-null   object \n",
      " 2   Cumulative no. of confirmed, probable and suspected cases   2477 non-null   float64\n",
      " 3   Cumulative no. of confirmed, probable and suspected deaths  2485 non-null   float64\n",
      "dtypes: float64(2), object(2)\n",
      "memory usage: 77.8+ KB\n"
     ]
    }
   ],
   "source": [
    "df.info() # To check the data types of each column"
   ]
  },
  {
   "cell_type": "code",
   "execution_count": 372,
   "id": "75a52aaf-58dd-496a-8722-996d1e7cf496",
   "metadata": {},
   "outputs": [
    {
     "data": {
      "text/plain": [
       "array(['Guinea', 'Nigeria', 'Sierra Leone', 'Liberia', 'Senegal',\n",
       "       'United States of America', 'Spain', 'Mali', 'United Kingdom',\n",
       "       'Italy'], dtype=object)"
      ]
     },
     "execution_count": 372,
     "metadata": {},
     "output_type": "execute_result"
    }
   ],
   "source": [
    "df['Country'].unique()"
   ]
  },
  {
   "cell_type": "raw",
   "id": "27ff3c96-14f6-460d-8e68-3a10cf016cf9",
   "metadata": {},
   "source": [
    "OBSERVATION:\n",
    "There are 10 countries which is affected by EBOLA virus."
   ]
  },
  {
   "cell_type": "code",
   "execution_count": 373,
   "id": "33eced61-dbb9-4c7f-b3cc-692b8024a8d3",
   "metadata": {},
   "outputs": [
    {
     "name": "stdout",
     "output_type": "stream",
     "text": [
      "2014-08-29\n",
      "2016-03-23\n"
     ]
    }
   ],
   "source": [
    "print(df['Date'].min())\n",
    "print(df['Date'].max())"
   ]
  },
  {
   "cell_type": "raw",
   "id": "a8840efe-12db-43f8-a46e-890bed0d21a9",
   "metadata": {},
   "source": [
    "OSERVATION:\n",
    "The data set contain information from 29-08-2014 to 23-03-2016"
   ]
  },
  {
   "cell_type": "raw",
   "id": "1f8262e7-5fb8-4bc6-b5a7-f2defa8698a6",
   "metadata": {},
   "source": [
    "DATA CLEANING"
   ]
  },
  {
   "cell_type": "code",
   "execution_count": 374,
   "id": "1b299791-5621-4825-9a58-1eb543256976",
   "metadata": {},
   "outputs": [
    {
     "data": {
      "text/plain": [
       "(2485, 4)"
      ]
     },
     "execution_count": 374,
     "metadata": {},
     "output_type": "execute_result"
    }
   ],
   "source": [
    "df.shape"
   ]
  },
  {
   "cell_type": "code",
   "execution_count": 375,
   "id": "ca7b4dbd-eb0f-460e-abfc-9a3f370b7488",
   "metadata": {},
   "outputs": [],
   "source": [
    "# rename the columns--to make it more readable\n",
    "\n",
    "df = df.rename(columns = {'Cumulative no. of confirmed, probable and suspected cases':'cumulative no. cases',\n",
    "                          'Cumulative no. of confirmed, probable and suspected deaths':'cumulative no. deaths'\n",
    "                         })\n",
    "           "
   ]
  },
  {
   "cell_type": "code",
   "execution_count": 376,
   "id": "3dddea94-ffd2-4f2d-a971-68d032e2d958",
   "metadata": {},
   "outputs": [
    {
     "data": {
      "text/plain": [
       "Index(['Country', 'Date', 'cumulative no. cases', 'cumulative no. deaths'], dtype='object')"
      ]
     },
     "execution_count": 376,
     "metadata": {},
     "output_type": "execute_result"
    }
   ],
   "source": [
    "df.columns"
   ]
  },
  {
   "cell_type": "code",
   "execution_count": 377,
   "id": "850aae3b-91da-4020-9c5d-ad07a7c83ed9",
   "metadata": {},
   "outputs": [
    {
     "data": {
      "text/html": [
       "<div>\n",
       "<style scoped>\n",
       "    .dataframe tbody tr th:only-of-type {\n",
       "        vertical-align: middle;\n",
       "    }\n",
       "\n",
       "    .dataframe tbody tr th {\n",
       "        vertical-align: top;\n",
       "    }\n",
       "\n",
       "    .dataframe thead th {\n",
       "        text-align: right;\n",
       "    }\n",
       "</style>\n",
       "<table border=\"1\" class=\"dataframe\">\n",
       "  <thead>\n",
       "    <tr style=\"text-align: right;\">\n",
       "      <th></th>\n",
       "      <th>Country</th>\n",
       "      <th>Date</th>\n",
       "      <th>cumulative no. cases</th>\n",
       "      <th>cumulative no. deaths</th>\n",
       "    </tr>\n",
       "  </thead>\n",
       "  <tbody>\n",
       "    <tr>\n",
       "      <th>2480</th>\n",
       "      <td>Liberia</td>\n",
       "      <td>2016-03-23</td>\n",
       "      <td>10666.0</td>\n",
       "      <td>4806.0</td>\n",
       "    </tr>\n",
       "    <tr>\n",
       "      <th>2481</th>\n",
       "      <td>Italy</td>\n",
       "      <td>2016-03-23</td>\n",
       "      <td>1.0</td>\n",
       "      <td>0.0</td>\n",
       "    </tr>\n",
       "    <tr>\n",
       "      <th>2482</th>\n",
       "      <td>Liberia</td>\n",
       "      <td>2016-03-23</td>\n",
       "      <td>5.0</td>\n",
       "      <td>4.0</td>\n",
       "    </tr>\n",
       "    <tr>\n",
       "      <th>2483</th>\n",
       "      <td>Nigeria</td>\n",
       "      <td>2016-03-23</td>\n",
       "      <td>20.0</td>\n",
       "      <td>8.0</td>\n",
       "    </tr>\n",
       "    <tr>\n",
       "      <th>2484</th>\n",
       "      <td>United States of America</td>\n",
       "      <td>2016-03-23</td>\n",
       "      <td>4.0</td>\n",
       "      <td>1.0</td>\n",
       "    </tr>\n",
       "  </tbody>\n",
       "</table>\n",
       "</div>"
      ],
      "text/plain": [
       "                       Country        Date  cumulative no. cases  \\\n",
       "2480                   Liberia  2016-03-23               10666.0   \n",
       "2481                     Italy  2016-03-23                   1.0   \n",
       "2482                   Liberia  2016-03-23                   5.0   \n",
       "2483                   Nigeria  2016-03-23                  20.0   \n",
       "2484  United States of America  2016-03-23                   4.0   \n",
       "\n",
       "      cumulative no. deaths  \n",
       "2480                 4806.0  \n",
       "2481                    0.0  \n",
       "2482                    4.0  \n",
       "2483                    8.0  \n",
       "2484                    1.0  "
      ]
     },
     "execution_count": 377,
     "metadata": {},
     "output_type": "execute_result"
    }
   ],
   "source": [
    "df.tail()"
   ]
  },
  {
   "cell_type": "markdown",
   "id": "963636b0-9767-45e1-88e5-20843b5632be",
   "metadata": {},
   "source": [
    "Make copy of the original data for further work"
   ]
  },
  {
   "cell_type": "code",
   "execution_count": 378,
   "id": "1ff4184b-c5eb-465e-9439-5f4304b47f2a",
   "metadata": {},
   "outputs": [],
   "source": [
    "new_df = df.copy()"
   ]
  },
  {
   "cell_type": "code",
   "execution_count": 379,
   "id": "6da50046-1477-435d-95f9-aa69b15693ce",
   "metadata": {},
   "outputs": [
    {
     "data": {
      "text/html": [
       "<div>\n",
       "<style scoped>\n",
       "    .dataframe tbody tr th:only-of-type {\n",
       "        vertical-align: middle;\n",
       "    }\n",
       "\n",
       "    .dataframe tbody tr th {\n",
       "        vertical-align: top;\n",
       "    }\n",
       "\n",
       "    .dataframe thead th {\n",
       "        text-align: right;\n",
       "    }\n",
       "</style>\n",
       "<table border=\"1\" class=\"dataframe\">\n",
       "  <thead>\n",
       "    <tr style=\"text-align: right;\">\n",
       "      <th></th>\n",
       "      <th>Country</th>\n",
       "      <th>Date</th>\n",
       "      <th>cumulative no. cases</th>\n",
       "      <th>cumulative no. deaths</th>\n",
       "    </tr>\n",
       "  </thead>\n",
       "  <tbody>\n",
       "    <tr>\n",
       "      <th>0</th>\n",
       "      <td>Guinea</td>\n",
       "      <td>2014-08-29</td>\n",
       "      <td>648.0</td>\n",
       "      <td>430.0</td>\n",
       "    </tr>\n",
       "    <tr>\n",
       "      <th>1</th>\n",
       "      <td>Nigeria</td>\n",
       "      <td>2014-08-29</td>\n",
       "      <td>19.0</td>\n",
       "      <td>7.0</td>\n",
       "    </tr>\n",
       "    <tr>\n",
       "      <th>2</th>\n",
       "      <td>Sierra Leone</td>\n",
       "      <td>2014-08-29</td>\n",
       "      <td>1026.0</td>\n",
       "      <td>422.0</td>\n",
       "    </tr>\n",
       "  </tbody>\n",
       "</table>\n",
       "</div>"
      ],
      "text/plain": [
       "        Country        Date  cumulative no. cases  cumulative no. deaths\n",
       "0        Guinea  2014-08-29                 648.0                  430.0\n",
       "1       Nigeria  2014-08-29                  19.0                    7.0\n",
       "2  Sierra Leone  2014-08-29                1026.0                  422.0"
      ]
     },
     "execution_count": 379,
     "metadata": {},
     "output_type": "execute_result"
    }
   ],
   "source": [
    "new_df.head(3)"
   ]
  },
  {
   "cell_type": "raw",
   "id": "747eab0c-2426-4eb2-ad6d-622accca0397",
   "metadata": {},
   "source": [
    "CHECKING THE MISSING VALUES --- By Visualisation"
   ]
  },
  {
   "cell_type": "code",
   "execution_count": 380,
   "id": "b6e99d3f-eb41-4308-8839-5a2fcd3061c6",
   "metadata": {
    "scrolled": true
   },
   "outputs": [
    {
     "data": {
      "image/png": "[encoded data removed]",
      "text/plain": [
       "<Figure size 1600x500 with 1 Axes>"
      ]
     },
     "metadata": {},
     "output_type": "display_data"
    }
   ],
   "source": [
    "missing = pd.DataFrame((new_df.isnull().sum())*100/df.shape[0]).reset_index()\n",
    "plt.figure(figsize = (16, 5))\n",
    "ax = sns.pointplot(x='index', y=0 ,data=missing)\n",
    "plt.xticks(rotation = 90, fontsize = 12)\n",
    "plt.title(\"percentage of missing values\")\n",
    "plt.ylabel(\"PERCENTAGE\")\n",
    "plt.show()"
   ]
  },
  {
   "cell_type": "raw",
   "id": "633d1d63-7f3d-497b-8a85-57909a39413c",
   "metadata": {},
   "source": [
    "OBSERVATION:\n",
    "From the graph it can be concluded that there is comparitavely high percentage of missing value in the column 'cumulative no. cases'.\n",
    "\n",
    "The rest of the columns i.e 'country', 'Date' and 'cumulative no. deths' does not have any null value."
   ]
  },
  {
   "cell_type": "raw",
   "id": "40e97c98-5b89-4dd7-a670-557ed8a495b2",
   "metadata": {},
   "source": [
    "\n",
    "\n"
   ]
  },
  {
   "cell_type": "raw",
   "id": "1a7a1b96-856d-4f78-be97-12bd13d473e6",
   "metadata": {},
   "source": [
    "THEORY:\n",
    "\n",
    "The mean and median are two different measures of central tendency used in statistics to describe the \"average\" value of a dataset, but they are sensitive to different aspects of the data distribution.\n",
    "\n",
    "MEAN:The mean is influenced by extreme values, outliers, or skewed data. If there are a few very large or very small values in the dataset, it can significantly pull the mean in their direction.\n",
    "\n",
    "MEDIAN:\n",
    "The median is the middle value in a dataset when the values are ordered from smallest to largest. If there is an even number of values, the median is the average of the two middle values. The median is less sensitive to extreme values and outliers. It gives you the value that separates the higher half from the lower half of the data.\n",
    "\n",
    "75th Percentile (Q3):\n",
    "The 75th percentile is a measure of central tendency that indicates the value below which 75% of the data falls. In other words, it represents the upper quartile of the data distribution. It's useful for understanding the distribution of values in the upper range of the dataset \n",
    "without being influenced by extreme outliers.\n",
    "\n",
    "Maximum Value (Max): \n",
    "The maximum value is the largest value in the dataset, and it represents the upper bound of the data. It's the absolute highest value in the dataset.\n",
    "\n"
   ]
  },
  {
   "cell_type": "code",
   "execution_count": 381,
   "id": "0585a2f9-9a2a-415d-838c-889cc29138b8",
   "metadata": {},
   "outputs": [
    {
     "data": {
      "text/html": [
       "<div>\n",
       "<style scoped>\n",
       "    .dataframe tbody tr th:only-of-type {\n",
       "        vertical-align: middle;\n",
       "    }\n",
       "\n",
       "    .dataframe tbody tr th {\n",
       "        vertical-align: top;\n",
       "    }\n",
       "\n",
       "    .dataframe thead th {\n",
       "        text-align: right;\n",
       "    }\n",
       "</style>\n",
       "<table border=\"1\" class=\"dataframe\">\n",
       "  <thead>\n",
       "    <tr style=\"text-align: right;\">\n",
       "      <th></th>\n",
       "      <th>cumulative no. cases</th>\n",
       "      <th>cumulative no. deaths</th>\n",
       "    </tr>\n",
       "  </thead>\n",
       "  <tbody>\n",
       "    <tr>\n",
       "      <th>count</th>\n",
       "      <td>2477.000000</td>\n",
       "      <td>2485.000000</td>\n",
       "    </tr>\n",
       "    <tr>\n",
       "      <th>mean</th>\n",
       "      <td>2553.678644</td>\n",
       "      <td>1028.347686</td>\n",
       "    </tr>\n",
       "    <tr>\n",
       "      <th>std</th>\n",
       "      <td>4427.118148</td>\n",
       "      <td>1656.064372</td>\n",
       "    </tr>\n",
       "    <tr>\n",
       "      <th>min</th>\n",
       "      <td>0.000000</td>\n",
       "      <td>0.000000</td>\n",
       "    </tr>\n",
       "    <tr>\n",
       "      <th>25%</th>\n",
       "      <td>1.000000</td>\n",
       "      <td>0.000000</td>\n",
       "    </tr>\n",
       "    <tr>\n",
       "      <th>50%</th>\n",
       "      <td>8.000000</td>\n",
       "      <td>6.000000</td>\n",
       "    </tr>\n",
       "    <tr>\n",
       "      <th>75%</th>\n",
       "      <td>3657.000000</td>\n",
       "      <td>2386.000000</td>\n",
       "    </tr>\n",
       "    <tr>\n",
       "      <th>max</th>\n",
       "      <td>14122.000000</td>\n",
       "      <td>4806.000000</td>\n",
       "    </tr>\n",
       "  </tbody>\n",
       "</table>\n",
       "</div>"
      ],
      "text/plain": [
       "       cumulative no. cases  cumulative no. deaths\n",
       "count           2477.000000            2485.000000\n",
       "mean            2553.678644            1028.347686\n",
       "std             4427.118148            1656.064372\n",
       "min                0.000000               0.000000\n",
       "25%                1.000000               0.000000\n",
       "50%                8.000000               6.000000\n",
       "75%             3657.000000            2386.000000\n",
       "max            14122.000000            4806.000000"
      ]
     },
     "execution_count": 381,
     "metadata": {},
     "output_type": "execute_result"
    }
   ],
   "source": [
    "new_df.describe()"
   ]
  },
  {
   "cell_type": "raw",
   "id": "ab98968b-329a-4684-8695-bdc8efb92e5d",
   "metadata": {},
   "source": [
    "OBSERVATION:\n",
    "Observing MEAN & MEDIAN \n",
    "1) There is huge difference between mean and median(50%). \n",
    "\n",
    "2) Since, the mean > meadian, ==> the data is positively skewed (it means that there are larger values pulling the mean in that direction ).\n",
    "\n",
    "3)outliers are preseent. \n",
    "\n",
    "4)Data is not evenly distributed.\n",
    "\n",
    "Summary: Thdere is large difference between the mean and median which indicates that the data distribution is not symmetrical and may be skewed or influenced by outliers.\n",
    "\n",
    "Observing 75%/Quartile and max\n",
    "1) Presence of outliers as there is huge difference between Q3 and max\n",
    "2) there is a substantial spread of values in the upper range, as the maximum value is much higher than the 75th percentile.\n",
    "\n",
    "summaray: Since there is large difference between Q3 and max value,\n",
    "it means that there are extreme values or outliers in the upper range of the data.\n",
    "(it impact the overall distribution and characteristics of the dataset)\n",
    "\n"
   ]
  },
  {
   "cell_type": "code",
   "execution_count": 382,
   "id": "43f3c0f0-7cee-4029-8e58-4ce8c45f8d25",
   "metadata": {},
   "outputs": [
    {
     "data": {
      "text/plain": [
       "Country                  0\n",
       "Date                     0\n",
       "cumulative no. cases     8\n",
       "cumulative no. deaths    0\n",
       "dtype: int64"
      ]
     },
     "execution_count": 382,
     "metadata": {},
     "output_type": "execute_result"
    }
   ],
   "source": [
    "new_df.isnull().sum()"
   ]
  },
  {
   "cell_type": "raw",
   "id": "d0e775b9-73e3-4b62-b94a-cfa891f90679",
   "metadata": {},
   "source": [
    "OBSERVATION:\n",
    "There are 8 NULL values in 'cumulative no. cases' column."
   ]
  },
  {
   "cell_type": "code",
   "execution_count": 383,
   "id": "8bb02db4-d1b4-4b0d-bc7c-5cf02919ad0c",
   "metadata": {},
   "outputs": [],
   "source": [
    "# Check for null values\n",
    "null_rows = new_df[new_df['cumulative no. cases'].isnull()]"
   ]
  },
  {
   "cell_type": "code",
   "execution_count": 384,
   "id": "3e320246-1a19-4502-8299-f3cd9d16d097",
   "metadata": {},
   "outputs": [
    {
     "data": {
      "text/html": [
       "<div>\n",
       "<style scoped>\n",
       "    .dataframe tbody tr th:only-of-type {\n",
       "        vertical-align: middle;\n",
       "    }\n",
       "\n",
       "    .dataframe tbody tr th {\n",
       "        vertical-align: top;\n",
       "    }\n",
       "\n",
       "    .dataframe thead th {\n",
       "        text-align: right;\n",
       "    }\n",
       "</style>\n",
       "<table border=\"1\" class=\"dataframe\">\n",
       "  <thead>\n",
       "    <tr style=\"text-align: right;\">\n",
       "      <th></th>\n",
       "      <th>Country</th>\n",
       "      <th>Date</th>\n",
       "      <th>cumulative no. cases</th>\n",
       "      <th>cumulative no. deaths</th>\n",
       "    </tr>\n",
       "  </thead>\n",
       "  <tbody>\n",
       "    <tr>\n",
       "      <th>301</th>\n",
       "      <td>United Kingdom</td>\n",
       "      <td>2015-01-08</td>\n",
       "      <td>NaN</td>\n",
       "      <td>0.0</td>\n",
       "    </tr>\n",
       "    <tr>\n",
       "      <th>302</th>\n",
       "      <td>Mali</td>\n",
       "      <td>2015-01-08</td>\n",
       "      <td>NaN</td>\n",
       "      <td>6.0</td>\n",
       "    </tr>\n",
       "    <tr>\n",
       "      <th>306</th>\n",
       "      <td>Mali</td>\n",
       "      <td>2015-01-09</td>\n",
       "      <td>NaN</td>\n",
       "      <td>6.0</td>\n",
       "    </tr>\n",
       "    <tr>\n",
       "      <th>308</th>\n",
       "      <td>United Kingdom</td>\n",
       "      <td>2015-01-09</td>\n",
       "      <td>NaN</td>\n",
       "      <td>0.0</td>\n",
       "    </tr>\n",
       "    <tr>\n",
       "      <th>312</th>\n",
       "      <td>United Kingdom</td>\n",
       "      <td>2015-01-12</td>\n",
       "      <td>NaN</td>\n",
       "      <td>0.0</td>\n",
       "    </tr>\n",
       "    <tr>\n",
       "      <th>314</th>\n",
       "      <td>Mali</td>\n",
       "      <td>2015-01-12</td>\n",
       "      <td>NaN</td>\n",
       "      <td>6.0</td>\n",
       "    </tr>\n",
       "    <tr>\n",
       "      <th>316</th>\n",
       "      <td>United Kingdom</td>\n",
       "      <td>2015-01-13</td>\n",
       "      <td>NaN</td>\n",
       "      <td>0.0</td>\n",
       "    </tr>\n",
       "    <tr>\n",
       "      <th>317</th>\n",
       "      <td>Mali</td>\n",
       "      <td>2015-01-13</td>\n",
       "      <td>NaN</td>\n",
       "      <td>6.0</td>\n",
       "    </tr>\n",
       "  </tbody>\n",
       "</table>\n",
       "</div>"
      ],
      "text/plain": [
       "            Country        Date  cumulative no. cases  cumulative no. deaths\n",
       "301  United Kingdom  2015-01-08                   NaN                    0.0\n",
       "302            Mali  2015-01-08                   NaN                    6.0\n",
       "306            Mali  2015-01-09                   NaN                    6.0\n",
       "308  United Kingdom  2015-01-09                   NaN                    0.0\n",
       "312  United Kingdom  2015-01-12                   NaN                    0.0\n",
       "314            Mali  2015-01-12                   NaN                    6.0\n",
       "316  United Kingdom  2015-01-13                   NaN                    0.0\n",
       "317            Mali  2015-01-13                   NaN                    6.0"
      ]
     },
     "execution_count": 384,
     "metadata": {},
     "output_type": "execute_result"
    }
   ],
   "source": [
    "null_rows"
   ]
  },
  {
   "cell_type": "code",
   "execution_count": 385,
   "id": "70b823b1-f04d-46fa-8748-b62e17e5aa4d",
   "metadata": {},
   "outputs": [
    {
     "data": {
      "text/plain": [
       "2485"
      ]
     },
     "execution_count": 385,
     "metadata": {},
     "output_type": "execute_result"
    }
   ],
   "source": [
    "len(new_df)"
   ]
  },
  {
   "cell_type": "code",
   "execution_count": 386,
   "id": "ea619a11-6605-45fb-9caf-8c57be57ec66",
   "metadata": {},
   "outputs": [],
   "source": [
    "# HANDLING MISSING VALUES (according to indexes)\n",
    "#index_to_drop = [301, 308, 312, 316]\n",
    "# new_df = new_df.drop(index_to_drop, axis=0)\n",
    "\n",
    "# Since indexes 301, 308, 312, 316 does not contain any value in any of the column, hence drooping those columns wont affect the overall result.\n",
    "# Hence indexes 301, 308, 312, 316 have been dropped above\n",
    "\n",
    "# Check for null values\n",
    "# null_rows = new_df[new_df['cumulative no. cases'].isnull()]\n",
    "# null_rows"
   ]
  },
  {
   "cell_type": "code",
   "execution_count": null,
   "id": "96eec171-945b-40e8-9efd-b4ba43f042b1",
   "metadata": {},
   "outputs": [],
   "source": []
  },
  {
   "cell_type": "raw",
   "id": "503e3a39-928f-4ac0-85ab-2555908de2b6",
   "metadata": {},
   "source": [
    "new_df = new_df.fillna(0)\n",
    "\n",
    "indexes 302, 306, 314, 317 contain some information in cumulative no. deaths column,\n",
    "so, it can be dropped or can be filled with 0 or any other method to fill the missing values.\n",
    "\n",
    "Above I have filled the indexes 301, 308, 312, 316 null value with 0. \n",
    "\n",
    "ERROR occured while cal."
   ]
  },
  {
   "cell_type": "code",
   "execution_count": null,
   "id": "d085e49d-bde3-408b-9834-f25765614b45",
   "metadata": {},
   "outputs": [],
   "source": []
  },
  {
   "cell_type": "code",
   "execution_count": null,
   "id": "3bbce97b-92bb-4d17-ba32-5c1cb8e35e89",
   "metadata": {},
   "outputs": [],
   "source": []
  },
  {
   "cell_type": "code",
   "execution_count": 387,
   "id": "3ea4b465-6b4f-4adf-aaf0-2c9467622567",
   "metadata": {},
   "outputs": [],
   "source": [
    "new_df = new_df.dropna()"
   ]
  },
  {
   "cell_type": "code",
   "execution_count": 388,
   "id": "df6afc67-336c-4b84-9f13-c48adc472977",
   "metadata": {},
   "outputs": [],
   "source": [
    "null_rows = new_df[new_df['cumulative no. cases'].isnull()]\n",
    "# null_rows"
   ]
  },
  {
   "cell_type": "code",
   "execution_count": 389,
   "id": "79cec8e1-641b-4d72-88d6-3290fb555d3b",
   "metadata": {},
   "outputs": [
    {
     "data": {
      "text/plain": [
       "Country                  0\n",
       "Date                     0\n",
       "cumulative no. cases     0\n",
       "cumulative no. deaths    0\n",
       "dtype: int64"
      ]
     },
     "execution_count": 389,
     "metadata": {},
     "output_type": "execute_result"
    }
   ],
   "source": [
    "new_df.isnull().sum()"
   ]
  },
  {
   "cell_type": "code",
   "execution_count": 390,
   "id": "0bcd3dbe-b88e-4088-b360-ad19ce608e3c",
   "metadata": {},
   "outputs": [
    {
     "data": {
      "image/png": "[encoded data removed]",
      "text/plain": [
       "<Figure size 1600x500 with 1 Axes>"
      ]
     },
     "metadata": {},
     "output_type": "display_data"
    }
   ],
   "source": [
    "# Again checking for missing values\n",
    "\n",
    "missing = pd.DataFrame((new_df.isnull().sum())*100/df.shape[0]).reset_index()\n",
    "plt.figure(figsize = (16, 5))\n",
    "ax = sns.pointplot(x='index', y=0 ,data=missing)\n",
    "plt.xticks(rotation = 90, fontsize = 12)\n",
    "plt.title(\"percentage of missing values\")\n",
    "plt.ylabel(\"PERCENTAGE\")\n",
    "plt.show()"
   ]
  },
  {
   "cell_type": "raw",
   "id": "0c6fcc43-0bf6-4dbb-8f3d-6091df3b6864",
   "metadata": {},
   "source": [
    "OBSERVATION:\n",
    "\n",
    "Now all the mising values has been deleted\n",
    "hence the shows 0% missing values for all the columns"
   ]
  },
  {
   "cell_type": "code",
   "execution_count": 391,
   "id": "d78765fd-07df-4a6c-8548-bf04900b7f40",
   "metadata": {},
   "outputs": [
    {
     "name": "stdout",
     "output_type": "stream",
     "text": [
      "<class 'pandas.core.frame.DataFrame'>\n",
      "Index: 2477 entries, 0 to 2484\n",
      "Data columns (total 4 columns):\n",
      " #   Column                 Non-Null Count  Dtype  \n",
      "---  ------                 --------------  -----  \n",
      " 0   Country                2477 non-null   object \n",
      " 1   Date                   2477 non-null   object \n",
      " 2   cumulative no. cases   2477 non-null   float64\n",
      " 3   cumulative no. deaths  2477 non-null   float64\n",
      "dtypes: float64(2), object(2)\n",
      "memory usage: 96.8+ KB\n"
     ]
    }
   ],
   "source": [
    "new_df.info()"
   ]
  },
  {
   "cell_type": "code",
   "execution_count": 392,
   "id": "0c8608fb-1783-4051-8645-54fbc8aed3ce",
   "metadata": {},
   "outputs": [
    {
     "data": {
      "text/plain": [
       "2477"
      ]
     },
     "execution_count": 392,
     "metadata": {},
     "output_type": "execute_result"
    }
   ],
   "source": [
    "len(new_df)"
   ]
  },
  {
   "cell_type": "raw",
   "id": "a6eb919e-ddf9-48e4-baa5-b5f3d566c268",
   "metadata": {},
   "source": [
    "Group Date and Country"
   ]
  },
  {
   "cell_type": "code",
   "execution_count": 393,
   "id": "b72a06ef-533c-4061-8e87-667f240eba51",
   "metadata": {},
   "outputs": [],
   "source": [
    "# group by date and country\n",
    "new_df = new_df.groupby(['Country','Date'])[['cumulative no. cases', 'cumulative no. deaths']].sum().reset_index()"
   ]
  },
  {
   "cell_type": "code",
   "execution_count": 394,
   "id": "aefe3d31-2b66-42a7-8ddf-de8407f964bc",
   "metadata": {},
   "outputs": [
    {
     "data": {
      "text/plain": [
       "2371"
      ]
     },
     "execution_count": 394,
     "metadata": {},
     "output_type": "execute_result"
    }
   ],
   "source": [
    "len(new_df)"
   ]
  },
  {
   "cell_type": "raw",
   "id": "9ff7bede-9391-4098-bb1d-6cb3fa623a0b",
   "metadata": {},
   "source": [
    "OBSERVATION:\n",
    "The length has reduced from 2481 to 2375"
   ]
  },
  {
   "cell_type": "code",
   "execution_count": 395,
   "id": "240127a3-8879-43f5-8eb7-5a13698e0b04",
   "metadata": {},
   "outputs": [
    {
     "data": {
      "text/html": [
       "<div>\n",
       "<style scoped>\n",
       "    .dataframe tbody tr th:only-of-type {\n",
       "        vertical-align: middle;\n",
       "    }\n",
       "\n",
       "    .dataframe tbody tr th {\n",
       "        vertical-align: top;\n",
       "    }\n",
       "\n",
       "    .dataframe thead th {\n",
       "        text-align: right;\n",
       "    }\n",
       "</style>\n",
       "<table border=\"1\" class=\"dataframe\">\n",
       "  <thead>\n",
       "    <tr style=\"text-align: right;\">\n",
       "      <th></th>\n",
       "      <th>Country</th>\n",
       "      <th>Date</th>\n",
       "      <th>cumulative no. cases</th>\n",
       "      <th>cumulative no. deaths</th>\n",
       "    </tr>\n",
       "  </thead>\n",
       "  <tbody>\n",
       "    <tr>\n",
       "      <th>2368</th>\n",
       "      <td>United States of America</td>\n",
       "      <td>2015-12-23</td>\n",
       "      <td>4.0</td>\n",
       "      <td>1.0</td>\n",
       "    </tr>\n",
       "    <tr>\n",
       "      <th>2369</th>\n",
       "      <td>United States of America</td>\n",
       "      <td>2015-12-29</td>\n",
       "      <td>4.0</td>\n",
       "      <td>1.0</td>\n",
       "    </tr>\n",
       "    <tr>\n",
       "      <th>2370</th>\n",
       "      <td>United States of America</td>\n",
       "      <td>2016-03-23</td>\n",
       "      <td>4.0</td>\n",
       "      <td>1.0</td>\n",
       "    </tr>\n",
       "  </tbody>\n",
       "</table>\n",
       "</div>"
      ],
      "text/plain": [
       "                       Country        Date  cumulative no. cases  \\\n",
       "2368  United States of America  2015-12-23                   4.0   \n",
       "2369  United States of America  2015-12-29                   4.0   \n",
       "2370  United States of America  2016-03-23                   4.0   \n",
       "\n",
       "      cumulative no. deaths  \n",
       "2368                    1.0  \n",
       "2369                    1.0  \n",
       "2370                    1.0  "
      ]
     },
     "execution_count": 395,
     "metadata": {},
     "output_type": "execute_result"
    }
   ],
   "source": [
    "new_df.tail(3)"
   ]
  },
  {
   "cell_type": "raw",
   "id": "75b50b13-fcb1-4ced-8dfa-d6e176c8801b",
   "metadata": {},
   "source": [
    "Checking for dublicate Rows"
   ]
  },
  {
   "cell_type": "code",
   "execution_count": 396,
   "id": "b66cab37-a08c-4b1c-b12f-863cfff7ac4d",
   "metadata": {},
   "outputs": [
    {
     "name": "stdout",
     "output_type": "stream",
     "text": [
      "No duplicate rows found based on 'Country' and 'Date'.\n"
     ]
    }
   ],
   "source": [
    "# Check for duplicate rows based on 'Country' and 'Date'\n",
    "duplicate_rows = new_df[new_df.duplicated(subset=['Country','Date'], keep=False)]\n",
    "\n",
    "if duplicate_rows.empty:\n",
    "    print(\"No duplicate rows found based on 'Country' and 'Date'.\")\n",
    "else:\n",
    "    print(\"Duplicate rows based on 'Country' and 'Date':\")\n",
    "    print(duplicate_rows)"
   ]
  },
  {
   "cell_type": "code",
   "execution_count": 397,
   "id": "31b34b40-564e-4b8f-8b62-45a5d04cde27",
   "metadata": {},
   "outputs": [
    {
     "data": {
      "text/html": [
       "<div>\n",
       "<style scoped>\n",
       "    .dataframe tbody tr th:only-of-type {\n",
       "        vertical-align: middle;\n",
       "    }\n",
       "\n",
       "    .dataframe tbody tr th {\n",
       "        vertical-align: top;\n",
       "    }\n",
       "\n",
       "    .dataframe thead th {\n",
       "        text-align: right;\n",
       "    }\n",
       "</style>\n",
       "<table border=\"1\" class=\"dataframe\">\n",
       "  <thead>\n",
       "    <tr style=\"text-align: right;\">\n",
       "      <th></th>\n",
       "      <th>Country</th>\n",
       "      <th>Date</th>\n",
       "      <th>cumulative no. cases</th>\n",
       "      <th>cumulative no. deaths</th>\n",
       "    </tr>\n",
       "  </thead>\n",
       "  <tbody>\n",
       "    <tr>\n",
       "      <th>0</th>\n",
       "      <td>Guinea</td>\n",
       "      <td>2014-08-29</td>\n",
       "      <td>648.0</td>\n",
       "      <td>430.0</td>\n",
       "    </tr>\n",
       "    <tr>\n",
       "      <th>1</th>\n",
       "      <td>Guinea</td>\n",
       "      <td>2014-09-05</td>\n",
       "      <td>812.0</td>\n",
       "      <td>517.0</td>\n",
       "    </tr>\n",
       "    <tr>\n",
       "      <th>2</th>\n",
       "      <td>Guinea</td>\n",
       "      <td>2014-09-08</td>\n",
       "      <td>862.0</td>\n",
       "      <td>555.0</td>\n",
       "    </tr>\n",
       "  </tbody>\n",
       "</table>\n",
       "</div>"
      ],
      "text/plain": [
       "  Country        Date  cumulative no. cases  cumulative no. deaths\n",
       "0  Guinea  2014-08-29                 648.0                  430.0\n",
       "1  Guinea  2014-09-05                 812.0                  517.0\n",
       "2  Guinea  2014-09-08                 862.0                  555.0"
      ]
     },
     "execution_count": 397,
     "metadata": {},
     "output_type": "execute_result"
    }
   ],
   "source": [
    "new_df.head(3)"
   ]
  },
  {
   "cell_type": "raw",
   "id": "1fac9e4d-f6a5-48fa-9329-5561d0d888ef",
   "metadata": {},
   "source": [
    "CONVERTING FLOAT TO INTEGERS"
   ]
  },
  {
   "cell_type": "code",
   "execution_count": 398,
   "id": "3ae5e5c2-109e-43ad-944d-3dd46ffcf7ee",
   "metadata": {},
   "outputs": [
    {
     "name": "stdout",
     "output_type": "stream",
     "text": [
      "<class 'pandas.core.frame.DataFrame'>\n",
      "RangeIndex: 2371 entries, 0 to 2370\n",
      "Data columns (total 4 columns):\n",
      " #   Column                 Non-Null Count  Dtype  \n",
      "---  ------                 --------------  -----  \n",
      " 0   Country                2371 non-null   object \n",
      " 1   Date                   2371 non-null   object \n",
      " 2   cumulative no. cases   2371 non-null   float64\n",
      " 3   cumulative no. deaths  2371 non-null   float64\n",
      "dtypes: float64(2), object(2)\n",
      "memory usage: 74.2+ KB\n"
     ]
    }
   ],
   "source": [
    "new_df.info()"
   ]
  },
  {
   "cell_type": "raw",
   "id": "e7e788ef-f7ca-4630-ac04-ca6e44a91c9b",
   "metadata": {},
   "source": [
    "Since in real life death/cases counts can not be in decimal form,\n",
    "hence converting the values of 'cumulative no. deaths and 'cumulative no. cases',from float to integers.\n",
    "\n",
    "Also the conversion from float to integers will save memory sapace and hence improve processing time."
   ]
  },
  {
   "cell_type": "code",
   "execution_count": 399,
   "id": "45f9166e-2404-459d-b260-af4522e283ba",
   "metadata": {},
   "outputs": [],
   "source": [
    "# Convert the float column to integers\n",
    "new_df['cumulative no. deaths'] = new_df[['cumulative no. deaths']].astype(int)"
   ]
  },
  {
   "cell_type": "code",
   "execution_count": 400,
   "id": "6e978a68-7614-4209-bd58-5158a5613bb0",
   "metadata": {},
   "outputs": [],
   "source": [
    "# Convert the float column to integers\n",
    "new_df['cumulative no. cases'] = new_df[['cumulative no. cases']].astype(int)"
   ]
  },
  {
   "cell_type": "code",
   "execution_count": 401,
   "id": "1dda4e7e-c6b1-4c02-ae89-11f883f6dbac",
   "metadata": {},
   "outputs": [
    {
     "name": "stdout",
     "output_type": "stream",
     "text": [
      "<class 'pandas.core.frame.DataFrame'>\n",
      "RangeIndex: 2371 entries, 0 to 2370\n",
      "Data columns (total 4 columns):\n",
      " #   Column                 Non-Null Count  Dtype \n",
      "---  ------                 --------------  ----- \n",
      " 0   Country                2371 non-null   object\n",
      " 1   Date                   2371 non-null   object\n",
      " 2   cumulative no. cases   2371 non-null   int64 \n",
      " 3   cumulative no. deaths  2371 non-null   int64 \n",
      "dtypes: int64(2), object(2)\n",
      "memory usage: 74.2+ KB\n"
     ]
    }
   ],
   "source": [
    "new_df.info()"
   ]
  },
  {
   "cell_type": "raw",
   "id": "20a9a3f9-3115-4d6e-97fd-afec8efa49ec",
   "metadata": {},
   "source": [
    "Earlier the data type 'cumulative no. deaths and 'cumulative no. cases' was float now its been converted into integer."
   ]
  },
  {
   "cell_type": "raw",
   "id": "25b90ac0-0be6-4dc8-8691-1c0c12f1bb67",
   "metadata": {},
   "source": [
    "The Case Fatality Rate (CFR),\n",
    "CFR is a measure used in epidemiology and public health to calculate the percentage of deaths among confirmed cases."
   ]
  },
  {
   "cell_type": "code",
   "execution_count": 402,
   "id": "b110d093-2294-47ae-bdf2-aed76160f508",
   "metadata": {},
   "outputs": [],
   "source": [
    "# CFR\n",
    "new_df['CFR(in%)'] = round((new_df['cumulative no. deaths'] / new_df['cumulative no. cases']) * 100, 2)"
   ]
  },
  {
   "cell_type": "code",
   "execution_count": 403,
   "id": "e3987c4a-6cae-4e1c-b31a-8bbbe83fffb9",
   "metadata": {},
   "outputs": [
    {
     "data": {
      "text/html": [
       "<div>\n",
       "<style scoped>\n",
       "    .dataframe tbody tr th:only-of-type {\n",
       "        vertical-align: middle;\n",
       "    }\n",
       "\n",
       "    .dataframe tbody tr th {\n",
       "        vertical-align: top;\n",
       "    }\n",
       "\n",
       "    .dataframe thead th {\n",
       "        text-align: right;\n",
       "    }\n",
       "</style>\n",
       "<table border=\"1\" class=\"dataframe\">\n",
       "  <thead>\n",
       "    <tr style=\"text-align: right;\">\n",
       "      <th></th>\n",
       "      <th>Country</th>\n",
       "      <th>Date</th>\n",
       "      <th>cumulative no. cases</th>\n",
       "      <th>cumulative no. deaths</th>\n",
       "      <th>CFR(in%)</th>\n",
       "    </tr>\n",
       "  </thead>\n",
       "  <tbody>\n",
       "    <tr>\n",
       "      <th>2366</th>\n",
       "      <td>United States of America</td>\n",
       "      <td>2015-12-17</td>\n",
       "      <td>4</td>\n",
       "      <td>1</td>\n",
       "      <td>25.0</td>\n",
       "    </tr>\n",
       "    <tr>\n",
       "      <th>2367</th>\n",
       "      <td>United States of America</td>\n",
       "      <td>2015-12-22</td>\n",
       "      <td>4</td>\n",
       "      <td>1</td>\n",
       "      <td>25.0</td>\n",
       "    </tr>\n",
       "    <tr>\n",
       "      <th>2368</th>\n",
       "      <td>United States of America</td>\n",
       "      <td>2015-12-23</td>\n",
       "      <td>4</td>\n",
       "      <td>1</td>\n",
       "      <td>25.0</td>\n",
       "    </tr>\n",
       "    <tr>\n",
       "      <th>2369</th>\n",
       "      <td>United States of America</td>\n",
       "      <td>2015-12-29</td>\n",
       "      <td>4</td>\n",
       "      <td>1</td>\n",
       "      <td>25.0</td>\n",
       "    </tr>\n",
       "    <tr>\n",
       "      <th>2370</th>\n",
       "      <td>United States of America</td>\n",
       "      <td>2016-03-23</td>\n",
       "      <td>4</td>\n",
       "      <td>1</td>\n",
       "      <td>25.0</td>\n",
       "    </tr>\n",
       "  </tbody>\n",
       "</table>\n",
       "</div>"
      ],
      "text/plain": [
       "                       Country        Date  cumulative no. cases  \\\n",
       "2366  United States of America  2015-12-17                     4   \n",
       "2367  United States of America  2015-12-22                     4   \n",
       "2368  United States of America  2015-12-23                     4   \n",
       "2369  United States of America  2015-12-29                     4   \n",
       "2370  United States of America  2016-03-23                     4   \n",
       "\n",
       "      cumulative no. deaths  CFR(in%)  \n",
       "2366                      1      25.0  \n",
       "2367                      1      25.0  \n",
       "2368                      1      25.0  \n",
       "2369                      1      25.0  \n",
       "2370                      1      25.0  "
      ]
     },
     "execution_count": 403,
     "metadata": {},
     "output_type": "execute_result"
    }
   ],
   "source": [
    "new_df.tail()"
   ]
  },
  {
   "cell_type": "code",
   "execution_count": 404,
   "id": "9ccece0d-0f9d-4158-a671-3629498b753f",
   "metadata": {},
   "outputs": [
    {
     "data": {
      "text/plain": [
       "Country                  0\n",
       "Date                     0\n",
       "cumulative no. cases     0\n",
       "cumulative no. deaths    0\n",
       "CFR(in%)                 2\n",
       "dtype: int64"
      ]
     },
     "execution_count": 404,
     "metadata": {},
     "output_type": "execute_result"
    }
   ],
   "source": [
    "new_df.isnull().sum()"
   ]
  },
  {
   "cell_type": "code",
   "execution_count": 405,
   "id": "5b044a56-7411-45b6-884f-36f497724948",
   "metadata": {},
   "outputs": [
    {
     "data": {
      "text/html": [
       "<div>\n",
       "<style scoped>\n",
       "    .dataframe tbody tr th:only-of-type {\n",
       "        vertical-align: middle;\n",
       "    }\n",
       "\n",
       "    .dataframe tbody tr th {\n",
       "        vertical-align: top;\n",
       "    }\n",
       "\n",
       "    .dataframe thead th {\n",
       "        text-align: right;\n",
       "    }\n",
       "</style>\n",
       "<table border=\"1\" class=\"dataframe\">\n",
       "  <thead>\n",
       "    <tr style=\"text-align: right;\">\n",
       "      <th></th>\n",
       "      <th>Country</th>\n",
       "      <th>Date</th>\n",
       "      <th>cumulative no. cases</th>\n",
       "      <th>cumulative no. deaths</th>\n",
       "      <th>CFR(in%)</th>\n",
       "    </tr>\n",
       "  </thead>\n",
       "  <tbody>\n",
       "    <tr>\n",
       "      <th>1909</th>\n",
       "      <td>United Kingdom</td>\n",
       "      <td>2015-01-02</td>\n",
       "      <td>0</td>\n",
       "      <td>0</td>\n",
       "      <td>NaN</td>\n",
       "    </tr>\n",
       "    <tr>\n",
       "      <th>1910</th>\n",
       "      <td>United Kingdom</td>\n",
       "      <td>2015-01-05</td>\n",
       "      <td>0</td>\n",
       "      <td>0</td>\n",
       "      <td>NaN</td>\n",
       "    </tr>\n",
       "  </tbody>\n",
       "</table>\n",
       "</div>"
      ],
      "text/plain": [
       "             Country        Date  cumulative no. cases  cumulative no. deaths  \\\n",
       "1909  United Kingdom  2015-01-02                     0                      0   \n",
       "1910  United Kingdom  2015-01-05                     0                      0   \n",
       "\n",
       "      CFR(in%)  \n",
       "1909       NaN  \n",
       "1910       NaN  "
      ]
     },
     "execution_count": 405,
     "metadata": {},
     "output_type": "execute_result"
    }
   ],
   "source": [
    "new_df[new_df['CFR(in%)'].isna()]"
   ]
  },
  {
   "cell_type": "raw",
   "id": "612924b5-5113-481d-a824-ad95d96c0475",
   "metadata": {},
   "source": [
    "DROPPING MISSING VALUES "
   ]
  },
  {
   "cell_type": "code",
   "execution_count": 406,
   "id": "2ea67323-c123-4be8-a204-b539c6078d4f",
   "metadata": {},
   "outputs": [],
   "source": [
    "new_df = new_df.dropna()"
   ]
  },
  {
   "cell_type": "code",
   "execution_count": 407,
   "id": "0b3bb28f-4aab-41cf-9bc1-3c7da100a618",
   "metadata": {},
   "outputs": [],
   "source": [
    " # new_df = new_df.fillna(0)"
   ]
  },
  {
   "cell_type": "code",
   "execution_count": 408,
   "id": "2cb8a966-3755-42c8-8673-279b8601f1a2",
   "metadata": {},
   "outputs": [
    {
     "data": {
      "text/plain": [
       "Country                  0\n",
       "Date                     0\n",
       "cumulative no. cases     0\n",
       "cumulative no. deaths    0\n",
       "CFR(in%)                 0\n",
       "dtype: int64"
      ]
     },
     "execution_count": 408,
     "metadata": {},
     "output_type": "execute_result"
    }
   ],
   "source": [
    "new_df.isnull().sum()"
   ]
  },
  {
   "cell_type": "raw",
   "id": "ca6e4e63-f57d-414c-8bb2-765c20129221",
   "metadata": {},
   "source": [
    "CALCULATING  'New Cases' and 'New Deaths'"
   ]
  },
  {
   "cell_type": "code",
   "execution_count": 409,
   "id": "f971b01d-663f-4b12-a91c-59d1a3eaa3ae",
   "metadata": {},
   "outputs": [
    {
     "data": {
      "text/html": [
       "<div>\n",
       "<style scoped>\n",
       "    .dataframe tbody tr th:only-of-type {\n",
       "        vertical-align: middle;\n",
       "    }\n",
       "\n",
       "    .dataframe tbody tr th {\n",
       "        vertical-align: top;\n",
       "    }\n",
       "\n",
       "    .dataframe thead th {\n",
       "        text-align: right;\n",
       "    }\n",
       "</style>\n",
       "<table border=\"1\" class=\"dataframe\">\n",
       "  <thead>\n",
       "    <tr style=\"text-align: right;\">\n",
       "      <th></th>\n",
       "      <th>Country</th>\n",
       "      <th>Date</th>\n",
       "      <th>cumulative no. cases</th>\n",
       "      <th>cumulative no. deaths</th>\n",
       "      <th>CFR(in%)</th>\n",
       "      <th>New cases</th>\n",
       "      <th>New deaths</th>\n",
       "    </tr>\n",
       "  </thead>\n",
       "  <tbody>\n",
       "    <tr>\n",
       "      <th>0</th>\n",
       "      <td>Guinea</td>\n",
       "      <td>2014-08-29</td>\n",
       "      <td>648</td>\n",
       "      <td>430</td>\n",
       "      <td>66.36</td>\n",
       "      <td>0</td>\n",
       "      <td>0</td>\n",
       "    </tr>\n",
       "    <tr>\n",
       "      <th>1</th>\n",
       "      <td>Guinea</td>\n",
       "      <td>2014-09-05</td>\n",
       "      <td>812</td>\n",
       "      <td>517</td>\n",
       "      <td>63.67</td>\n",
       "      <td>164</td>\n",
       "      <td>87</td>\n",
       "    </tr>\n",
       "    <tr>\n",
       "      <th>2</th>\n",
       "      <td>Guinea</td>\n",
       "      <td>2014-09-08</td>\n",
       "      <td>862</td>\n",
       "      <td>555</td>\n",
       "      <td>64.39</td>\n",
       "      <td>50</td>\n",
       "      <td>38</td>\n",
       "    </tr>\n",
       "    <tr>\n",
       "      <th>3</th>\n",
       "      <td>Guinea</td>\n",
       "      <td>2014-09-12</td>\n",
       "      <td>861</td>\n",
       "      <td>557</td>\n",
       "      <td>64.69</td>\n",
       "      <td>0</td>\n",
       "      <td>2</td>\n",
       "    </tr>\n",
       "    <tr>\n",
       "      <th>4</th>\n",
       "      <td>Guinea</td>\n",
       "      <td>2014-09-16</td>\n",
       "      <td>936</td>\n",
       "      <td>595</td>\n",
       "      <td>63.57</td>\n",
       "      <td>75</td>\n",
       "      <td>38</td>\n",
       "    </tr>\n",
       "  </tbody>\n",
       "</table>\n",
       "</div>"
      ],
      "text/plain": [
       "  Country        Date  cumulative no. cases  cumulative no. deaths  CFR(in%)  \\\n",
       "0  Guinea  2014-08-29                   648                    430     66.36   \n",
       "1  Guinea  2014-09-05                   812                    517     63.67   \n",
       "2  Guinea  2014-09-08                   862                    555     64.39   \n",
       "3  Guinea  2014-09-12                   861                    557     64.69   \n",
       "4  Guinea  2014-09-16                   936                    595     63.57   \n",
       "\n",
       "   New cases  New deaths  \n",
       "0          0           0  \n",
       "1        164          87  \n",
       "2         50          38  \n",
       "3          0           2  \n",
       "4         75          38  "
      ]
     },
     "execution_count": 409,
     "metadata": {},
     "output_type": "execute_result"
    }
   ],
   "source": [
    "# Calculate daily increments in new cases and new deaths\n",
    "temp = new_df.groupby(['Country', 'Date'])[['cumulative no. cases', 'cumulative no. deaths']].sum().diff().reset_index()\n",
    "\n",
    "# Create a mask to identify the first entry for each country\n",
    "mask = temp['Country'] != temp['Country'].shift(1)\n",
    "\n",
    "# Set the first entry for each country to NaN\n",
    "temp.loc[mask, 'cumulative no. cases'] = np.nan\n",
    "temp.loc[mask, 'cumulative no. deaths'] = np.nan\n",
    "\n",
    "# Rename columns in temp\n",
    "temp.columns = ['Country', 'Date', 'New cases', 'New deaths']\n",
    "\n",
    "# Merge temp with new_df\n",
    "new_df = pd.merge(new_df, temp, on=['Country', 'Date'])\n",
    "\n",
    "# Fill NaN values with 0\n",
    "new_df = new_df.fillna(0)\n",
    "\n",
    "# Convert data types of 'New cases' and 'New deaths' to int\n",
    "cols = ['New cases', 'New deaths']\n",
    "new_df[cols] = new_df[cols].astype('int')\n",
    "\n",
    "# Ensure 'New cases' is non-negative\n",
    "new_df['New cases'] = new_df['New cases'].apply(lambda x: 0 if x < 0 else x)\n",
    "\n",
    "new_df.head()"
   ]
  },
  {
   "cell_type": "code",
   "execution_count": 410,
   "id": "5634fa58-886f-432a-98e2-f89af75189ae",
   "metadata": {},
   "outputs": [
    {
     "data": {
      "text/html": [
       "<div>\n",
       "<style scoped>\n",
       "    .dataframe tbody tr th:only-of-type {\n",
       "        vertical-align: middle;\n",
       "    }\n",
       "\n",
       "    .dataframe tbody tr th {\n",
       "        vertical-align: top;\n",
       "    }\n",
       "\n",
       "    .dataframe thead th {\n",
       "        text-align: right;\n",
       "    }\n",
       "</style>\n",
       "<table border=\"1\" class=\"dataframe\">\n",
       "  <thead>\n",
       "    <tr style=\"text-align: right;\">\n",
       "      <th></th>\n",
       "      <th>Country</th>\n",
       "      <th>Date</th>\n",
       "      <th>cumulative no. cases</th>\n",
       "      <th>cumulative no. deaths</th>\n",
       "      <th>CFR(in%)</th>\n",
       "      <th>New cases</th>\n",
       "      <th>New deaths</th>\n",
       "    </tr>\n",
       "  </thead>\n",
       "  <tbody>\n",
       "    <tr>\n",
       "      <th>2364</th>\n",
       "      <td>United States of America</td>\n",
       "      <td>2015-12-17</td>\n",
       "      <td>4</td>\n",
       "      <td>1</td>\n",
       "      <td>25.0</td>\n",
       "      <td>0</td>\n",
       "      <td>0</td>\n",
       "    </tr>\n",
       "    <tr>\n",
       "      <th>2365</th>\n",
       "      <td>United States of America</td>\n",
       "      <td>2015-12-22</td>\n",
       "      <td>4</td>\n",
       "      <td>1</td>\n",
       "      <td>25.0</td>\n",
       "      <td>0</td>\n",
       "      <td>0</td>\n",
       "    </tr>\n",
       "    <tr>\n",
       "      <th>2366</th>\n",
       "      <td>United States of America</td>\n",
       "      <td>2015-12-23</td>\n",
       "      <td>4</td>\n",
       "      <td>1</td>\n",
       "      <td>25.0</td>\n",
       "      <td>0</td>\n",
       "      <td>0</td>\n",
       "    </tr>\n",
       "    <tr>\n",
       "      <th>2367</th>\n",
       "      <td>United States of America</td>\n",
       "      <td>2015-12-29</td>\n",
       "      <td>4</td>\n",
       "      <td>1</td>\n",
       "      <td>25.0</td>\n",
       "      <td>0</td>\n",
       "      <td>0</td>\n",
       "    </tr>\n",
       "    <tr>\n",
       "      <th>2368</th>\n",
       "      <td>United States of America</td>\n",
       "      <td>2016-03-23</td>\n",
       "      <td>4</td>\n",
       "      <td>1</td>\n",
       "      <td>25.0</td>\n",
       "      <td>0</td>\n",
       "      <td>0</td>\n",
       "    </tr>\n",
       "  </tbody>\n",
       "</table>\n",
       "</div>"
      ],
      "text/plain": [
       "                       Country        Date  cumulative no. cases  \\\n",
       "2364  United States of America  2015-12-17                     4   \n",
       "2365  United States of America  2015-12-22                     4   \n",
       "2366  United States of America  2015-12-23                     4   \n",
       "2367  United States of America  2015-12-29                     4   \n",
       "2368  United States of America  2016-03-23                     4   \n",
       "\n",
       "      cumulative no. deaths  CFR(in%)  New cases  New deaths  \n",
       "2364                      1      25.0          0           0  \n",
       "2365                      1      25.0          0           0  \n",
       "2366                      1      25.0          0           0  \n",
       "2367                      1      25.0          0           0  \n",
       "2368                      1      25.0          0           0  "
      ]
     },
     "execution_count": 410,
     "metadata": {},
     "output_type": "execute_result"
    }
   ],
   "source": [
    "new_df.tail()"
   ]
  },
  {
   "cell_type": "code",
   "execution_count": 411,
   "id": "34215f26-e889-48e5-9c23-688b6cff2a7a",
   "metadata": {},
   "outputs": [
    {
     "data": {
      "text/plain": [
       "Country                  0\n",
       "Date                     0\n",
       "cumulative no. cases     0\n",
       "cumulative no. deaths    0\n",
       "CFR(in%)                 0\n",
       "New cases                0\n",
       "New deaths               0\n",
       "dtype: int64"
      ]
     },
     "execution_count": 411,
     "metadata": {},
     "output_type": "execute_result"
    }
   ],
   "source": [
    "new_df.isnull().sum()"
   ]
  },
  {
   "cell_type": "code",
   "execution_count": 412,
   "id": "0f0bbf49-b260-4a41-89ec-4f8a78830a6a",
   "metadata": {},
   "outputs": [
    {
     "data": {
      "text/plain": [
       "Index(['Country', 'Date', 'cumulative no. cases', 'cumulative no. deaths',\n",
       "       'CFR(in%)', 'New cases', 'New deaths'],\n",
       "      dtype='object')"
      ]
     },
     "execution_count": 412,
     "metadata": {},
     "output_type": "execute_result"
    }
   ],
   "source": [
    "new_df.columns"
   ]
  },
  {
   "cell_type": "code",
   "execution_count": 413,
   "id": "477811d9-caa9-46b8-a3cd-778266ebe12b",
   "metadata": {},
   "outputs": [
    {
     "data": {
      "text/html": [
       "<div>\n",
       "<style scoped>\n",
       "    .dataframe tbody tr th:only-of-type {\n",
       "        vertical-align: middle;\n",
       "    }\n",
       "\n",
       "    .dataframe tbody tr th {\n",
       "        vertical-align: top;\n",
       "    }\n",
       "\n",
       "    .dataframe thead th {\n",
       "        text-align: right;\n",
       "    }\n",
       "</style>\n",
       "<table border=\"1\" class=\"dataframe\">\n",
       "  <thead>\n",
       "    <tr style=\"text-align: right;\">\n",
       "      <th></th>\n",
       "      <th>cumulative no. cases</th>\n",
       "      <th>cumulative no. deaths</th>\n",
       "      <th>CFR(in%)</th>\n",
       "      <th>New cases</th>\n",
       "      <th>New deaths</th>\n",
       "    </tr>\n",
       "  </thead>\n",
       "  <tbody>\n",
       "    <tr>\n",
       "      <th>count</th>\n",
       "      <td>2369.000000</td>\n",
       "      <td>2369.000000</td>\n",
       "      <td>2369.000000</td>\n",
       "      <td>2369.000000</td>\n",
       "      <td>2369.000000</td>\n",
       "    </tr>\n",
       "    <tr>\n",
       "      <th>mean</th>\n",
       "      <td>2670.097932</td>\n",
       "      <td>1078.691431</td>\n",
       "      <td>29.853225</td>\n",
       "      <td>11.216969</td>\n",
       "      <td>4.121992</td>\n",
       "    </tr>\n",
       "    <tr>\n",
       "      <th>std</th>\n",
       "      <td>4493.185442</td>\n",
       "      <td>1680.322680</td>\n",
       "      <td>26.777053</td>\n",
       "      <td>64.781404</td>\n",
       "      <td>26.032316</td>\n",
       "    </tr>\n",
       "    <tr>\n",
       "      <th>min</th>\n",
       "      <td>1.000000</td>\n",
       "      <td>0.000000</td>\n",
       "      <td>0.000000</td>\n",
       "      <td>0.000000</td>\n",
       "      <td>-440.000000</td>\n",
       "    </tr>\n",
       "    <tr>\n",
       "      <th>25%</th>\n",
       "      <td>1.000000</td>\n",
       "      <td>0.000000</td>\n",
       "      <td>0.000000</td>\n",
       "      <td>0.000000</td>\n",
       "      <td>0.000000</td>\n",
       "    </tr>\n",
       "    <tr>\n",
       "      <th>50%</th>\n",
       "      <td>8.000000</td>\n",
       "      <td>6.000000</td>\n",
       "      <td>29.190000</td>\n",
       "      <td>0.000000</td>\n",
       "      <td>0.000000</td>\n",
       "    </tr>\n",
       "    <tr>\n",
       "      <th>75%</th>\n",
       "      <td>3750.000000</td>\n",
       "      <td>2440.000000</td>\n",
       "      <td>45.050000</td>\n",
       "      <td>0.000000</td>\n",
       "      <td>0.000000</td>\n",
       "    </tr>\n",
       "    <tr>\n",
       "      <th>max</th>\n",
       "      <td>14122.000000</td>\n",
       "      <td>4813.000000</td>\n",
       "      <td>100.000000</td>\n",
       "      <td>1870.000000</td>\n",
       "      <td>471.000000</td>\n",
       "    </tr>\n",
       "  </tbody>\n",
       "</table>\n",
       "</div>"
      ],
      "text/plain": [
       "       cumulative no. cases  cumulative no. deaths     CFR(in%)    New cases  \\\n",
       "count           2369.000000            2369.000000  2369.000000  2369.000000   \n",
       "mean            2670.097932            1078.691431    29.853225    11.216969   \n",
       "std             4493.185442            1680.322680    26.777053    64.781404   \n",
       "min                1.000000               0.000000     0.000000     0.000000   \n",
       "25%                1.000000               0.000000     0.000000     0.000000   \n",
       "50%                8.000000               6.000000    29.190000     0.000000   \n",
       "75%             3750.000000            2440.000000    45.050000     0.000000   \n",
       "max            14122.000000            4813.000000   100.000000  1870.000000   \n",
       "\n",
       "        New deaths  \n",
       "count  2369.000000  \n",
       "mean      4.121992  \n",
       "std      26.032316  \n",
       "min    -440.000000  \n",
       "25%       0.000000  \n",
       "50%       0.000000  \n",
       "75%       0.000000  \n",
       "max     471.000000  "
      ]
     },
     "execution_count": 413,
     "metadata": {},
     "output_type": "execute_result"
    }
   ],
   "source": [
    "new_df.describe()\n"
   ]
  },
  {
   "cell_type": "markdown",
   "id": "7d2b3152-5562-4280-8950-444ac160dee7",
   "metadata": {},
   "source": [
    "AFTER FINDING THE PRESENCE OF OUTLIERS----\n",
    "1) CHECKING MISSING VALUES\n",
    "2) CHECKING AND REMOVING DUBLICATE COLUMNS OR COMBINING (LETS SEE)"
   ]
  },
  {
   "cell_type": "raw",
   "id": "4552fd8e-98b2-4159-a50d-07a352af1a56",
   "metadata": {},
   "source": [
    "Duplicate rows can potentially affect the model, but the impact depends on the nature and extent of duplication in dataset, as well as the type of machine learning model you are using"
   ]
  },
  {
   "cell_type": "code",
   "execution_count": 414,
   "id": "b0922e72-e3d6-41b2-9977-e523dc504d49",
   "metadata": {},
   "outputs": [
    {
     "data": {
      "text/html": [
       "<div>\n",
       "<style scoped>\n",
       "    .dataframe tbody tr th:only-of-type {\n",
       "        vertical-align: middle;\n",
       "    }\n",
       "\n",
       "    .dataframe tbody tr th {\n",
       "        vertical-align: top;\n",
       "    }\n",
       "\n",
       "    .dataframe thead th {\n",
       "        text-align: right;\n",
       "    }\n",
       "</style>\n",
       "<table border=\"1\" class=\"dataframe\">\n",
       "  <thead>\n",
       "    <tr style=\"text-align: right;\">\n",
       "      <th></th>\n",
       "      <th>Country</th>\n",
       "      <th>Date</th>\n",
       "      <th>cumulative no. cases</th>\n",
       "      <th>cumulative no. deaths</th>\n",
       "      <th>CFR(in%)</th>\n",
       "      <th>New cases</th>\n",
       "      <th>New deaths</th>\n",
       "    </tr>\n",
       "  </thead>\n",
       "  <tbody>\n",
       "    <tr>\n",
       "      <th>0</th>\n",
       "      <td>Guinea</td>\n",
       "      <td>2014-08-29</td>\n",
       "      <td>648</td>\n",
       "      <td>430</td>\n",
       "      <td>66.36</td>\n",
       "      <td>0</td>\n",
       "      <td>0</td>\n",
       "    </tr>\n",
       "    <tr>\n",
       "      <th>1</th>\n",
       "      <td>Guinea</td>\n",
       "      <td>2014-09-05</td>\n",
       "      <td>812</td>\n",
       "      <td>517</td>\n",
       "      <td>63.67</td>\n",
       "      <td>164</td>\n",
       "      <td>87</td>\n",
       "    </tr>\n",
       "    <tr>\n",
       "      <th>2</th>\n",
       "      <td>Guinea</td>\n",
       "      <td>2014-09-08</td>\n",
       "      <td>862</td>\n",
       "      <td>555</td>\n",
       "      <td>64.39</td>\n",
       "      <td>50</td>\n",
       "      <td>38</td>\n",
       "    </tr>\n",
       "    <tr>\n",
       "      <th>3</th>\n",
       "      <td>Guinea</td>\n",
       "      <td>2014-09-12</td>\n",
       "      <td>861</td>\n",
       "      <td>557</td>\n",
       "      <td>64.69</td>\n",
       "      <td>0</td>\n",
       "      <td>2</td>\n",
       "    </tr>\n",
       "    <tr>\n",
       "      <th>4</th>\n",
       "      <td>Guinea</td>\n",
       "      <td>2014-09-16</td>\n",
       "      <td>936</td>\n",
       "      <td>595</td>\n",
       "      <td>63.57</td>\n",
       "      <td>75</td>\n",
       "      <td>38</td>\n",
       "    </tr>\n",
       "  </tbody>\n",
       "</table>\n",
       "</div>"
      ],
      "text/plain": [
       "  Country        Date  cumulative no. cases  cumulative no. deaths  CFR(in%)  \\\n",
       "0  Guinea  2014-08-29                   648                    430     66.36   \n",
       "1  Guinea  2014-09-05                   812                    517     63.67   \n",
       "2  Guinea  2014-09-08                   862                    555     64.39   \n",
       "3  Guinea  2014-09-12                   861                    557     64.69   \n",
       "4  Guinea  2014-09-16                   936                    595     63.57   \n",
       "\n",
       "   New cases  New deaths  \n",
       "0          0           0  \n",
       "1        164          87  \n",
       "2         50          38  \n",
       "3          0           2  \n",
       "4         75          38  "
      ]
     },
     "execution_count": 414,
     "metadata": {},
     "output_type": "execute_result"
    }
   ],
   "source": [
    "new_df.head()"
   ]
  },
  {
   "cell_type": "markdown",
   "id": "9d9a997f-fb05-4f12-ab0a-88ae498260b0",
   "metadata": {},
   "source": [
    "## REGRESSION RANDOM FOREST"
   ]
  },
  {
   "cell_type": "code",
   "execution_count": 415,
   "id": "16c06997-8791-4296-bb18-41a96a780dc1",
   "metadata": {},
   "outputs": [
    {
     "data": {
      "text/plain": [
       "pandas.core.frame.DataFrame"
      ]
     },
     "execution_count": 415,
     "metadata": {},
     "output_type": "execute_result"
    }
   ],
   "source": [
    "dummy_new_df = new_df.copy()\n",
    "dummy_new_df = dummy_new_df.drop(['Date'],axis=1)\n",
    "type(dummy_new_df)"
   ]
  },
  {
   "cell_type": "code",
   "execution_count": 416,
   "id": "b7bdedbf-61bd-4018-98cb-465f3af6831f",
   "metadata": {},
   "outputs": [],
   "source": [
    "from sklearn.preprocessing import LabelEncoder, OneHotEncoder\n",
    "from sklearn.compose import ColumnTransformer\n",
    "from sklearn.ensemble import RandomForestRegressor\n",
    "from sklearn.model_selection import train_test_split\n",
    "\n"
   ]
  },
  {
   "cell_type": "code",
   "execution_count": 417,
   "id": "4296b3a4-c8f1-4350-a3ef-688703aba0a5",
   "metadata": {},
   "outputs": [],
   "source": [
    "# Create a LabelEncoder for the 'Country' column\n",
    "country_encoder = LabelEncoder()\n",
    "dummy_new_df['Country'] = country_encoder.fit_transform(dummy_new_df['Country'])"
   ]
  },
  {
   "cell_type": "code",
   "execution_count": 418,
   "id": "37474b14-afd1-4a63-ad30-e767cfb60a4d",
   "metadata": {},
   "outputs": [
    {
     "data": {
      "text/html": [
       "<div>\n",
       "<style scoped>\n",
       "    .dataframe tbody tr th:only-of-type {\n",
       "        vertical-align: middle;\n",
       "    }\n",
       "\n",
       "    .dataframe tbody tr th {\n",
       "        vertical-align: top;\n",
       "    }\n",
       "\n",
       "    .dataframe thead th {\n",
       "        text-align: right;\n",
       "    }\n",
       "</style>\n",
       "<table border=\"1\" class=\"dataframe\">\n",
       "  <thead>\n",
       "    <tr style=\"text-align: right;\">\n",
       "      <th></th>\n",
       "      <th>Country</th>\n",
       "      <th>cumulative no. cases</th>\n",
       "      <th>cumulative no. deaths</th>\n",
       "      <th>CFR(in%)</th>\n",
       "      <th>New cases</th>\n",
       "      <th>New deaths</th>\n",
       "    </tr>\n",
       "  </thead>\n",
       "  <tbody>\n",
       "    <tr>\n",
       "      <th>0</th>\n",
       "      <td>0</td>\n",
       "      <td>648</td>\n",
       "      <td>430</td>\n",
       "      <td>66.36</td>\n",
       "      <td>0</td>\n",
       "      <td>0</td>\n",
       "    </tr>\n",
       "    <tr>\n",
       "      <th>1</th>\n",
       "      <td>0</td>\n",
       "      <td>812</td>\n",
       "      <td>517</td>\n",
       "      <td>63.67</td>\n",
       "      <td>164</td>\n",
       "      <td>87</td>\n",
       "    </tr>\n",
       "    <tr>\n",
       "      <th>2</th>\n",
       "      <td>0</td>\n",
       "      <td>862</td>\n",
       "      <td>555</td>\n",
       "      <td>64.39</td>\n",
       "      <td>50</td>\n",
       "      <td>38</td>\n",
       "    </tr>\n",
       "    <tr>\n",
       "      <th>3</th>\n",
       "      <td>0</td>\n",
       "      <td>861</td>\n",
       "      <td>557</td>\n",
       "      <td>64.69</td>\n",
       "      <td>0</td>\n",
       "      <td>2</td>\n",
       "    </tr>\n",
       "    <tr>\n",
       "      <th>4</th>\n",
       "      <td>0</td>\n",
       "      <td>936</td>\n",
       "      <td>595</td>\n",
       "      <td>63.57</td>\n",
       "      <td>75</td>\n",
       "      <td>38</td>\n",
       "    </tr>\n",
       "  </tbody>\n",
       "</table>\n",
       "</div>"
      ],
      "text/plain": [
       "   Country  cumulative no. cases  cumulative no. deaths  CFR(in%)  New cases  \\\n",
       "0        0                   648                    430     66.36          0   \n",
       "1        0                   812                    517     63.67        164   \n",
       "2        0                   862                    555     64.39         50   \n",
       "3        0                   861                    557     64.69          0   \n",
       "4        0                   936                    595     63.57         75   \n",
       "\n",
       "   New deaths  \n",
       "0           0  \n",
       "1          87  \n",
       "2          38  \n",
       "3           2  \n",
       "4          38  "
      ]
     },
     "execution_count": 418,
     "metadata": {},
     "output_type": "execute_result"
    }
   ],
   "source": [
    "dummy_new_df.head()"
   ]
  },
  {
   "cell_type": "code",
   "execution_count": 419,
   "id": "c7f320fe-f199-464f-83c8-c81157ee2379",
   "metadata": {},
   "outputs": [
    {
     "data": {
      "text/html": [
       "<style>#sk-container-id-10 {color: black;}#sk-container-id-10 pre{padding: 0;}#sk-container-id-10 div.sk-toggleable {background-color: white;}#sk-container-id-10 label.sk-toggleable__label {cursor: pointer;display: block;width: 100%;margin-bottom: 0;padding: 0.3em;box-sizing: border-box;text-align: center;}#sk-container-id-10 label.sk-toggleable__label-arrow:before {content: \"▸\";float: left;margin-right: 0.25em;color: #696969;}#sk-container-id-10 label.sk-toggleable__label-arrow:hover:before {color: black;}#sk-container-id-10 div.sk-estimator:hover label.sk-toggleable__label-arrow:before {color: black;}#sk-container-id-10 div.sk-toggleable__content {max-height: 0;max-width: 0;overflow: hidden;text-align: left;background-color: #f0f8ff;}#sk-container-id-10 div.sk-toggleable__content pre {margin: 0.2em;color: black;border-radius: 0.25em;background-color: #f0f8ff;}#sk-container-id-10 input.sk-toggleable__control:checked~div.sk-toggleable__content {max-height: 200px;max-width: 100%;overflow: auto;}#sk-container-id-10 input.sk-toggleable__control:checked~label.sk-toggleable__label-arrow:before {content: \"▾\";}#sk-container-id-10 div.sk-estimator input.sk-toggleable__control:checked~label.sk-toggleable__label {background-color: #d4ebff;}#sk-container-id-10 div.sk-label input.sk-toggleable__control:checked~label.sk-toggleable__label {background-color: #d4ebff;}#sk-container-id-10 input.sk-hidden--visually {border: 0;clip: rect(1px 1px 1px 1px);clip: rect(1px, 1px, 1px, 1px);height: 1px;margin: -1px;overflow: hidden;padding: 0;position: absolute;width: 1px;}#sk-container-id-10 div.sk-estimator {font-family: monospace;background-color: #f0f8ff;border: 1px dotted black;border-radius: 0.25em;box-sizing: border-box;margin-bottom: 0.5em;}#sk-container-id-10 div.sk-estimator:hover {background-color: #d4ebff;}#sk-container-id-10 div.sk-parallel-item::after {content: \"\";width: 100%;border-bottom: 1px solid gray;flex-grow: 1;}#sk-container-id-10 div.sk-label:hover label.sk-toggleable__label {background-color: #d4ebff;}#sk-container-id-10 div.sk-serial::before {content: \"\";position: absolute;border-left: 1px solid gray;box-sizing: border-box;top: 0;bottom: 0;left: 50%;z-index: 0;}#sk-container-id-10 div.sk-serial {display: flex;flex-direction: column;align-items: center;background-color: white;padding-right: 0.2em;padding-left: 0.2em;position: relative;}#sk-container-id-10 div.sk-item {position: relative;z-index: 1;}#sk-container-id-10 div.sk-parallel {display: flex;align-items: stretch;justify-content: center;background-color: white;position: relative;}#sk-container-id-10 div.sk-item::before, #sk-container-id-10 div.sk-parallel-item::before {content: \"\";position: absolute;border-left: 1px solid gray;box-sizing: border-box;top: 0;bottom: 0;left: 50%;z-index: -1;}#sk-container-id-10 div.sk-parallel-item {display: flex;flex-direction: column;z-index: 1;position: relative;background-color: white;}#sk-container-id-10 div.sk-parallel-item:first-child::after {align-self: flex-end;width: 50%;}#sk-container-id-10 div.sk-parallel-item:last-child::after {align-self: flex-start;width: 50%;}#sk-container-id-10 div.sk-parallel-item:only-child::after {width: 0;}#sk-container-id-10 div.sk-dashed-wrapped {border: 1px dashed gray;margin: 0 0.4em 0.5em 0.4em;box-sizing: border-box;padding-bottom: 0.4em;background-color: white;}#sk-container-id-10 div.sk-label label {font-family: monospace;font-weight: bold;display: inline-block;line-height: 1.2em;}#sk-container-id-10 div.sk-label-container {text-align: center;}#sk-container-id-10 div.sk-container {/* jupyter's `normalize.less` sets `[hidden] { display: none; }` but bootstrap.min.css set `[hidden] { display: none !important; }` so we also need the `!important` here to be able to override the default hidden behavior on the sphinx rendered scikit-learn.org. See: https://github.com/scikit-learn/scikit-learn/issues/21755 */display: inline-block !important;position: relative;}#sk-container-id-10 div.sk-text-repr-fallback {display: none;}</style><div id=\"sk-container-id-10\" class=\"sk-top-container\"><div class=\"sk-text-repr-fallback\"><pre>RandomForestRegressor(n_estimators=300)</pre><b>In a Jupyter environment, please rerun this cell to show the HTML representation or trust the notebook. <br />On GitHub, the HTML representation is unable to render, please try loading this page with nbviewer.org.</b></div><div class=\"sk-container\" hidden><div class=\"sk-item\"><div class=\"sk-estimator sk-toggleable\"><input class=\"sk-toggleable__control sk-hidden--visually\" id=\"sk-estimator-id-22\" type=\"checkbox\" checked><label for=\"sk-estimator-id-22\" class=\"sk-toggleable__label sk-toggleable__label-arrow\">RandomForestRegressor</label><div class=\"sk-toggleable__content\"><pre>RandomForestRegressor(n_estimators=300)</pre></div></div></div></div></div>"
      ],
      "text/plain": [
       "RandomForestRegressor(n_estimators=300)"
      ]
     },
     "execution_count": 419,
     "metadata": {},
     "output_type": "execute_result"
    }
   ],
   "source": [
    "# Split the data into features (X) and target (Y)\n",
    "X1 = dummy_new_df.drop(['cumulative no. deaths', 'CFR(in%)'], axis=1)\n",
    "Y1 = dummy_new_df['cumulative no. deaths']\n",
    "\n",
    "# Use one-hot encoding for the 'Country' column\n",
    "ct = ColumnTransformer(transformers=[('one_hot', OneHotEncoder(), [0])], remainder='passthrough')\n",
    "X1_encoded = ct.fit_transform(X1)\n",
    "\n",
    "# Create training and testing sets\n",
    "X1_train, X1_test, Y1_train, Y1_test = train_test_split(X1_encoded, Y1, test_size=0.2, random_state=42)\n",
    "\n",
    "# Create and train a random forest regressor\n",
    "model = RandomForestRegressor(n_estimators=300)\n",
    "model.fit(X1_train, Y1_train)"
   ]
  },
  {
   "cell_type": "code",
   "execution_count": 420,
   "id": "b862cd00-6965-48e5-af2d-385d9a937a76",
   "metadata": {},
   "outputs": [
    {
     "data": {
      "text/html": [
       "<style>#sk-container-id-11 {color: black;}#sk-container-id-11 pre{padding: 0;}#sk-container-id-11 div.sk-toggleable {background-color: white;}#sk-container-id-11 label.sk-toggleable__label {cursor: pointer;display: block;width: 100%;margin-bottom: 0;padding: 0.3em;box-sizing: border-box;text-align: center;}#sk-container-id-11 label.sk-toggleable__label-arrow:before {content: \"▸\";float: left;margin-right: 0.25em;color: #696969;}#sk-container-id-11 label.sk-toggleable__label-arrow:hover:before {color: black;}#sk-container-id-11 div.sk-estimator:hover label.sk-toggleable__label-arrow:before {color: black;}#sk-container-id-11 div.sk-toggleable__content {max-height: 0;max-width: 0;overflow: hidden;text-align: left;background-color: #f0f8ff;}#sk-container-id-11 div.sk-toggleable__content pre {margin: 0.2em;color: black;border-radius: 0.25em;background-color: #f0f8ff;}#sk-container-id-11 input.sk-toggleable__control:checked~div.sk-toggleable__content {max-height: 200px;max-width: 100%;overflow: auto;}#sk-container-id-11 input.sk-toggleable__control:checked~label.sk-toggleable__label-arrow:before {content: \"▾\";}#sk-container-id-11 div.sk-estimator input.sk-toggleable__control:checked~label.sk-toggleable__label {background-color: #d4ebff;}#sk-container-id-11 div.sk-label input.sk-toggleable__control:checked~label.sk-toggleable__label {background-color: #d4ebff;}#sk-container-id-11 input.sk-hidden--visually {border: 0;clip: rect(1px 1px 1px 1px);clip: rect(1px, 1px, 1px, 1px);height: 1px;margin: -1px;overflow: hidden;padding: 0;position: absolute;width: 1px;}#sk-container-id-11 div.sk-estimator {font-family: monospace;background-color: #f0f8ff;border: 1px dotted black;border-radius: 0.25em;box-sizing: border-box;margin-bottom: 0.5em;}#sk-container-id-11 div.sk-estimator:hover {background-color: #d4ebff;}#sk-container-id-11 div.sk-parallel-item::after {content: \"\";width: 100%;border-bottom: 1px solid gray;flex-grow: 1;}#sk-container-id-11 div.sk-label:hover label.sk-toggleable__label {background-color: #d4ebff;}#sk-container-id-11 div.sk-serial::before {content: \"\";position: absolute;border-left: 1px solid gray;box-sizing: border-box;top: 0;bottom: 0;left: 50%;z-index: 0;}#sk-container-id-11 div.sk-serial {display: flex;flex-direction: column;align-items: center;background-color: white;padding-right: 0.2em;padding-left: 0.2em;position: relative;}#sk-container-id-11 div.sk-item {position: relative;z-index: 1;}#sk-container-id-11 div.sk-parallel {display: flex;align-items: stretch;justify-content: center;background-color: white;position: relative;}#sk-container-id-11 div.sk-item::before, #sk-container-id-11 div.sk-parallel-item::before {content: \"\";position: absolute;border-left: 1px solid gray;box-sizing: border-box;top: 0;bottom: 0;left: 50%;z-index: -1;}#sk-container-id-11 div.sk-parallel-item {display: flex;flex-direction: column;z-index: 1;position: relative;background-color: white;}#sk-container-id-11 div.sk-parallel-item:first-child::after {align-self: flex-end;width: 50%;}#sk-container-id-11 div.sk-parallel-item:last-child::after {align-self: flex-start;width: 50%;}#sk-container-id-11 div.sk-parallel-item:only-child::after {width: 0;}#sk-container-id-11 div.sk-dashed-wrapped {border: 1px dashed gray;margin: 0 0.4em 0.5em 0.4em;box-sizing: border-box;padding-bottom: 0.4em;background-color: white;}#sk-container-id-11 div.sk-label label {font-family: monospace;font-weight: bold;display: inline-block;line-height: 1.2em;}#sk-container-id-11 div.sk-label-container {text-align: center;}#sk-container-id-11 div.sk-container {/* jupyter's `normalize.less` sets `[hidden] { display: none; }` but bootstrap.min.css set `[hidden] { display: none !important; }` so we also need the `!important` here to be able to override the default hidden behavior on the sphinx rendered scikit-learn.org. See: https://github.com/scikit-learn/scikit-learn/issues/21755 */display: inline-block !important;position: relative;}#sk-container-id-11 div.sk-text-repr-fallback {display: none;}</style><div id=\"sk-container-id-11\" class=\"sk-top-container\"><div class=\"sk-text-repr-fallback\"><pre>ColumnTransformer(remainder=&#x27;passthrough&#x27;,\n",
       "                  transformers=[(&#x27;one_hot&#x27;, OneHotEncoder(), [0])])</pre><b>In a Jupyter environment, please rerun this cell to show the HTML representation or trust the notebook. <br />On GitHub, the HTML representation is unable to render, please try loading this page with nbviewer.org.</b></div><div class=\"sk-container\" hidden><div class=\"sk-item sk-dashed-wrapped\"><div class=\"sk-label-container\"><div class=\"sk-label sk-toggleable\"><input class=\"sk-toggleable__control sk-hidden--visually\" id=\"sk-estimator-id-23\" type=\"checkbox\" ><label for=\"sk-estimator-id-23\" class=\"sk-toggleable__label sk-toggleable__label-arrow\">ColumnTransformer</label><div class=\"sk-toggleable__content\"><pre>ColumnTransformer(remainder=&#x27;passthrough&#x27;,\n",
       "                  transformers=[(&#x27;one_hot&#x27;, OneHotEncoder(), [0])])</pre></div></div></div><div class=\"sk-parallel\"><div class=\"sk-parallel-item\"><div class=\"sk-item\"><div class=\"sk-label-container\"><div class=\"sk-label sk-toggleable\"><input class=\"sk-toggleable__control sk-hidden--visually\" id=\"sk-estimator-id-24\" type=\"checkbox\" ><label for=\"sk-estimator-id-24\" class=\"sk-toggleable__label sk-toggleable__label-arrow\">one_hot</label><div class=\"sk-toggleable__content\"><pre>[0]</pre></div></div></div><div class=\"sk-serial\"><div class=\"sk-item\"><div class=\"sk-estimator sk-toggleable\"><input class=\"sk-toggleable__control sk-hidden--visually\" id=\"sk-estimator-id-25\" type=\"checkbox\" ><label for=\"sk-estimator-id-25\" class=\"sk-toggleable__label sk-toggleable__label-arrow\">OneHotEncoder</label><div class=\"sk-toggleable__content\"><pre>OneHotEncoder()</pre></div></div></div></div></div></div><div class=\"sk-parallel-item\"><div class=\"sk-item\"><div class=\"sk-label-container\"><div class=\"sk-label sk-toggleable\"><input class=\"sk-toggleable__control sk-hidden--visually\" id=\"sk-estimator-id-26\" type=\"checkbox\" ><label for=\"sk-estimator-id-26\" class=\"sk-toggleable__label sk-toggleable__label-arrow\">remainder</label><div class=\"sk-toggleable__content\"><pre>[&#x27;cumulative no. cases&#x27;, &#x27;New cases&#x27;, &#x27;New deaths&#x27;]</pre></div></div></div><div class=\"sk-serial\"><div class=\"sk-item\"><div class=\"sk-estimator sk-toggleable\"><input class=\"sk-toggleable__control sk-hidden--visually\" id=\"sk-estimator-id-27\" type=\"checkbox\" ><label for=\"sk-estimator-id-27\" class=\"sk-toggleable__label sk-toggleable__label-arrow\">passthrough</label><div class=\"sk-toggleable__content\"><pre>passthrough</pre></div></div></div></div></div></div></div></div></div></div>"
      ],
      "text/plain": [
       "ColumnTransformer(remainder='passthrough',\n",
       "                  transformers=[('one_hot', OneHotEncoder(), [0])])"
      ]
     },
     "execution_count": 420,
     "metadata": {},
     "output_type": "execute_result"
    }
   ],
   "source": [
    "ct"
   ]
  },
  {
   "cell_type": "markdown",
   "id": "31062c7b-d205-4272-ade6-def0767ec5a6",
   "metadata": {},
   "source": [
    "## EVALUATE THE MODEL"
   ]
  },
  {
   "cell_type": "code",
   "execution_count": 447,
   "id": "9f54cb98-e457-4270-aff3-b8ccbd1e613f",
   "metadata": {},
   "outputs": [
    {
     "name": "stdout",
     "output_type": "stream",
     "text": [
      "R-squared score: 0.9999445707416927\n",
      "\n",
      "model score in% \n"
     ]
    },
    {
     "data": {
      "text/plain": [
       "99.99445707416928"
      ]
     },
     "execution_count": 447,
     "metadata": {},
     "output_type": "execute_result"
    }
   ],
   "source": [
    "# Evaluate the model\n",
    "score = model.score(X1_train, Y1_train)\n",
    "\n",
    "print(f'R-squared score: {score}\\n')\n",
    "\n",
    "print(\"model score in% \")\n",
    "model.score(X1_train, Y1_train)*100"
   ]
  },
  {
   "cell_type": "code",
   "execution_count": 459,
   "id": "91f8876a-f2e2-43a6-97d2-c7e7c16ec3cb",
   "metadata": {},
   "outputs": [
    {
     "name": "stdout",
     "output_type": "stream",
     "text": [
      "R-squared (R²): 0.9999445707416927\n",
      "Mean Squared Error (MSE): 154.1059587188348\n",
      "Mean absolute error (MAE):2.212823581677626\n"
     ]
    }
   ],
   "source": [
    "\n",
    "# Make predictions on the test data\n",
    "Y1_predict = model.predict(X1_train)\n",
    "\n",
    "# Calculate the R-squared (coefficient of determination)\n",
    "r2 = r2_score(Y1_train, Y1_predict)\n",
    "\n",
    "# Calculate the mean squared error (MSE)\n",
    "mse = mean_squared_error(Y1_train, Y1_predict)\n",
    "\n",
    "mae = mean_absolute_error(Y1_train, Y1_predict)\n",
    "\n",
    "\n",
    "# Print the R-squared and MSE\n",
    "print(f\"R-squared (R²): {r2}\")\n",
    "print(f\"Mean Squared Error (MSE): {mse}\")\n",
    "print(f\"Mean absolute error (MAE):{mae}\")\n",
    "\n",
    "\n",
    "\n",
    "\n",
    "\n",
    "MAE = pd.DataFrame(data={\"Actual values\": Y1_train,\n",
    "                         \"Predicted values\": Y1_predict\n",
    "                           })\n",
    "\n",
    "MAE[\"Differences\"] = MAE[\"Predicted values\"]- MAE[\"Actual values\"]"
   ]
  },
  {
   "cell_type": "code",
   "execution_count": 421,
   "id": "643de72a-5086-45af-b6ec-d44c9d8383c0",
   "metadata": {},
   "outputs": [
    {
     "name": "stdout",
     "output_type": "stream",
     "text": [
      "R-squared score: 0.9993548418062004\n",
      "\n",
      "model score in% \n"
     ]
    },
    {
     "data": {
      "text/plain": [
       "99.93548418062004"
      ]
     },
     "execution_count": 421,
     "metadata": {},
     "output_type": "execute_result"
    }
   ],
   "source": [
    "# Evaluate the model\n",
    "score = model.score(X1_test, Y1_test)\n",
    "\n",
    "print(f'R-squared score: {score}\\n')\n",
    "\n",
    "print(\"model score in% \")\n",
    "model.score(X1_test, Y1_test)*100"
   ]
  },
  {
   "cell_type": "code",
   "execution_count": 454,
   "id": "d1758072-b9a3-4aba-bf02-67ef09e88698",
   "metadata": {},
   "outputs": [
    {
     "name": "stdout",
     "output_type": "stream",
     "text": [
      "R-squared (R²): 0.9993548418062004\n",
      "Mean Squared Error (MSE): 1920.9992621346876\n",
      "Mean absolute error (MAE):7.683103166150208\n"
     ]
    }
   ],
   "source": [
    "from sklearn.metrics import r2_score, mean_squared_error, mean_absolute_error\n",
    "\n",
    "# Make predictions on the test data\n",
    "Y1_pred = model.predict(X1_test)\n",
    "\n",
    "# Calculate the R-squared (coefficient of determination)\n",
    "r2 = r2_score(Y1_test, Y1_pred)\n",
    "\n",
    "# Calculate the mean squared error (MSE)\n",
    "mse = mean_squared_error(Y1_test, Y1_pred)\n",
    "\n",
    "mae = mean_absolute_error(Y1_test, Y1_pred)\n",
    "\n",
    "\n",
    "# Print the R-squared and MSE\n",
    "print(f\"R-squared (R²): {r2}\")\n",
    "print(f\"Mean Squared Error (MSE): {mse}\")\n",
    "print(f\"Mean absolute error (MAE):{mae}\")\n",
    "\n",
    "\n",
    "MAE = pd.DataFrame(data={\"Actual values\": Y1_test,\n",
    "                            \"Predicted values\": Y1_pred\n",
    "                           })\n",
    "\n",
    "MAE[\"Differences\"] = MAE[\"Predicted values\"]- MAE[\"Actual values\"] "
   ]
  },
  {
   "cell_type": "markdown",
   "id": "9d8be2c3-5606-4efd-8981-c3f0a9cc22ae",
   "metadata": {},
   "source": [
    "## PREDICTIVE SYSTEM"
   ]
  },
  {
   "cell_type": "code",
   "execution_count": 423,
   "id": "dc33fbbe-d9bb-4ef1-9115-704978151ac3",
   "metadata": {},
   "outputs": [
    {
     "data": {
      "text/html": [
       "<div>\n",
       "<style scoped>\n",
       "    .dataframe tbody tr th:only-of-type {\n",
       "        vertical-align: middle;\n",
       "    }\n",
       "\n",
       "    .dataframe tbody tr th {\n",
       "        vertical-align: top;\n",
       "    }\n",
       "\n",
       "    .dataframe thead th {\n",
       "        text-align: right;\n",
       "    }\n",
       "</style>\n",
       "<table border=\"1\" class=\"dataframe\">\n",
       "  <thead>\n",
       "    <tr style=\"text-align: right;\">\n",
       "      <th></th>\n",
       "      <th>Country</th>\n",
       "      <th>cumulative no. cases</th>\n",
       "      <th>cumulative no. deaths</th>\n",
       "      <th>CFR(in%)</th>\n",
       "      <th>New cases</th>\n",
       "      <th>New deaths</th>\n",
       "    </tr>\n",
       "  </thead>\n",
       "  <tbody>\n",
       "    <tr>\n",
       "      <th>0</th>\n",
       "      <td>0</td>\n",
       "      <td>648</td>\n",
       "      <td>430</td>\n",
       "      <td>66.36</td>\n",
       "      <td>0</td>\n",
       "      <td>0</td>\n",
       "    </tr>\n",
       "    <tr>\n",
       "      <th>1</th>\n",
       "      <td>0</td>\n",
       "      <td>812</td>\n",
       "      <td>517</td>\n",
       "      <td>63.67</td>\n",
       "      <td>164</td>\n",
       "      <td>87</td>\n",
       "    </tr>\n",
       "    <tr>\n",
       "      <th>2</th>\n",
       "      <td>0</td>\n",
       "      <td>862</td>\n",
       "      <td>555</td>\n",
       "      <td>64.39</td>\n",
       "      <td>50</td>\n",
       "      <td>38</td>\n",
       "    </tr>\n",
       "    <tr>\n",
       "      <th>3</th>\n",
       "      <td>0</td>\n",
       "      <td>861</td>\n",
       "      <td>557</td>\n",
       "      <td>64.69</td>\n",
       "      <td>0</td>\n",
       "      <td>2</td>\n",
       "    </tr>\n",
       "    <tr>\n",
       "      <th>4</th>\n",
       "      <td>0</td>\n",
       "      <td>936</td>\n",
       "      <td>595</td>\n",
       "      <td>63.57</td>\n",
       "      <td>75</td>\n",
       "      <td>38</td>\n",
       "    </tr>\n",
       "  </tbody>\n",
       "</table>\n",
       "</div>"
      ],
      "text/plain": [
       "   Country  cumulative no. cases  cumulative no. deaths  CFR(in%)  New cases  \\\n",
       "0        0                   648                    430     66.36          0   \n",
       "1        0                   812                    517     63.67        164   \n",
       "2        0                   862                    555     64.39         50   \n",
       "3        0                   861                    557     64.69          0   \n",
       "4        0                   936                    595     63.57         75   \n",
       "\n",
       "   New deaths  \n",
       "0           0  \n",
       "1          87  \n",
       "2          38  \n",
       "3           2  \n",
       "4          38  "
      ]
     },
     "execution_count": 423,
     "metadata": {},
     "output_type": "execute_result"
    }
   ],
   "source": [
    "dummy_new_df.head()"
   ]
  },
  {
   "cell_type": "code",
   "execution_count": 426,
   "id": "0a5a8c97-c1e0-4aa2-b799-c823ca604ab1",
   "metadata": {},
   "outputs": [
    {
     "name": "stdout",
     "output_type": "stream",
     "text": [
      "Predicted cumulative deaths: 460.21666666666664\n"
     ]
    },
    {
     "name": "stderr",
     "output_type": "stream",
     "text": [
      "/Users/sadafrizwan/Desktop/college_work/Ebola/ebola_venv/lib/python3.11/site-packages/sklearn/base.py:465: UserWarning: X does not have valid feature names, but OneHotEncoder was fitted with feature names\n",
      "  warnings.warn(\n"
     ]
    }
   ],
   "source": [
    "def prediction(country, cumulative_cases, new_cases, new_deaths):\n",
    "    try:\n",
    "        # Encode the user input 'country'\n",
    "        transformed_country = country_encoder.transform([country])\n",
    "        # Create a user data array with the encoded 'country' and other input features\n",
    "        user_data = [transformed_country[0], cumulative_cases, new_cases, new_deaths]\n",
    "        # Transform the user data using the same ColumnTransformer\n",
    "        transformed_data = ct.transform([user_data])\n",
    "        # Predict the result using the pre-trained model\n",
    "        result = model.predict(transformed_data)\n",
    "        return result[0]\n",
    "    except ValueError:\n",
    "        # Handle the case of an unknown 'country' label\n",
    "        return None\n",
    "\n",
    "# User input\n",
    "country = 'Guinea'\n",
    "cumulative_cases = 648\n",
    "new_cases = 0\n",
    "new_deaths = 0\n",
    "\n",
    "# Make a prediction\n",
    "user_predictions = prediction(country, cumulative_cases, new_cases, new_deaths)\n",
    "\n",
    "if user_predictions is not None:\n",
    "    print(f\"Predicted cumulative deaths:\", user_predictions)\n",
    "else:\n",
    "    print(\"Invalid data or prediction is not available\")\n"
   ]
  },
  {
   "cell_type": "markdown",
   "id": "328464fa-6c70-4211-9fd6-4439e55bb9c8",
   "metadata": {},
   "source": [
    "## Saving the trained model"
   ]
  },
  {
   "cell_type": "code",
   "execution_count": 427,
   "id": "c3f9bc1f-7224-4881-9ebc-74ba08063f0a",
   "metadata": {},
   "outputs": [],
   "source": [
    "import pickle"
   ]
  },
  {
   "cell_type": "code",
   "execution_count": 429,
   "id": "9a9763bd-2186-47f9-b6ef-d8cd0903890f",
   "metadata": {},
   "outputs": [],
   "source": [
    "filename = 'EbolaModelReg.pkl'\n",
    "pickle.dump(model,open(filename, 'wb')) \n"
   ]
  },
  {
   "cell_type": "code",
   "execution_count": 431,
   "id": "da52cee4-5e95-43b4-b0c6-42b96e74be94",
   "metadata": {},
   "outputs": [],
   "source": [
    "pickle.dump(ct,open('ct.pkl', 'wb'))"
   ]
  },
  {
   "cell_type": "code",
   "execution_count": 432,
   "id": "7063d939-4704-44af-9320-e82a1624c698",
   "metadata": {},
   "outputs": [],
   "source": [
    "pickle.dump(country_encoder, open('country_encoder.pkl', 'wb'))"
   ]
  },
  {
   "cell_type": "code",
   "execution_count": null,
   "id": "fe910515-35b3-4a06-bfe8-eb537b85689b",
   "metadata": {},
   "outputs": [],
   "source": []
  }
 ],
 "metadata": {
  "kernelspec": {
   "display_name": "Python 3 (ipykernel)",
   "language": "python",
   "name": "python3"
  },
  "language_info": {
   "codemirror_mode": {
    "name": "ipython",
    "version": 3
   },
   "file_extension": ".py",
   "mimetype": "text/x-python",
   "name": "python",
   "nbconvert_exporter": "python",
   "pygments_lexer": "ipython3",
   "version": "3.11.5"
  }
 },
 "nbformat": 4,
 "nbformat_minor": 5
}
